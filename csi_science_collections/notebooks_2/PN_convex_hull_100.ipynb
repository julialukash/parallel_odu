{
 "cells": [
  {
   "cell_type": "code",
   "execution_count": 3,
   "metadata": {
    "collapsed": false,
    "scrolled": false
   },
   "outputs": [
    {
     "name": "stdout",
     "output_type": "stream",
     "text": [
      "0.8.1\n"
     ]
    }
   ],
   "source": [
    "import pickle\n",
    "import sys\n",
    "import numpy as np\n",
    "import pandas as pd\n",
    "import artm\n",
    "import seaborn as sns\n",
    "import matplotlib.pyplot as plt\n",
    "print artm.version()\n",
    "\n",
    "from os import path, mkdir\n",
    "from datetime import datetime\n",
    "sys.path.insert(0, '..\\\\modules\\\\helpers')\n",
    "import distances_helper as dh \n",
    "from plot_helper import PlotMaker\n",
    "from config_helper import ConfigPaths\n",
    "from print_helper import PrintHelper\n",
    "from sklearn.decomposition import PCA\n",
    "from scipy.spatial import ConvexHull\n",
    "from scipy.optimize import minimize\n",
    "from sklearn.metrics.pairwise import cosine_distances\n",
    "from numpy.linalg import norm as euclidean_norm"
   ]
  },
  {
   "cell_type": "code",
   "execution_count": 4,
   "metadata": {
    "collapsed": false,
    "scrolled": false
   },
   "outputs": [
    {
     "name": "stdout",
     "output_type": "stream",
     "text": [
      "Q:\\\\topic_modeling\\\\csi_science_collections.git\\experiments\\UCI_filtered_ngramm_trimmed_without_names\\np_19_12\\models.txt\n"
     ]
    }
   ],
   "source": [
    "config = ConfigPaths('config.cfg')\n",
    "plot_maker = PlotMaker()\n",
    "printer = PrintHelper()\n",
    "print config.models_file_name"
   ]
  },
  {
   "cell_type": "code",
   "execution_count": 5,
   "metadata": {
    "collapsed": false,
    "scrolled": false
   },
   "outputs": [],
   "source": [
    "models_file = open(config.models_file_name, 'a')"
   ]
  },
  {
   "cell_type": "code",
   "execution_count": 6,
   "metadata": {
    "collapsed": false,
    "scrolled": false
   },
   "outputs": [],
   "source": [
    "def create_model(current_dictionary, n_topics, n_doc_passes, seed_value, n_top_tokens, p_mass_threshold):    \n",
    "    print '[{}] creating model'.format(datetime.now())\n",
    "    model = artm.ARTM(num_topics=n_topics, dictionary=current_dictionary, cache_theta=True, seed=seed_value, \n",
    "                  class_ids={'ngramm': 1.0, 'author_id': 0.0, 'author': 0.0, \n",
    "                             'post_tag': 0.0, 'projects': 0.0, 'category': 0.0,\n",
    "                             'following_users': 0.0})\n",
    "    model.num_document_passes = n_doc_passes\n",
    "    add_scores_to_model(model, n_top_tokens=n_top_tokens, p_mass_threshold=p_mass_threshold)\n",
    "    return model\n",
    "def add_scores_to_model(artm_model, n_top_tokens, p_mass_threshold):\n",
    "    print '[{}] adding scores'.format(datetime.now())\n",
    "    artm_model.scores.add(artm.PerplexityScore(name='perplexity_score',\n",
    "                                      dictionary=dictionary))\n",
    "    artm_model.scores.add(artm.SparsityPhiScore(name='sparsity_phi_score', class_id='ngramm'))\n",
    "    artm_model.scores.add(artm.SparsityThetaScore(name='sparsity_theta_score'))\n",
    "    artm_model.scores.add(artm.TopicKernelScore(name='topic_kernel_score', class_id='ngramm', \n",
    "                                                probability_mass_threshold=p_mass_threshold))\n",
    "    artm_model.scores.add(artm.TopTokensScore(name='top_tokens_score', class_id='ngramm', num_tokens=n_top_tokens))\n",
    "def fit_one_model(model, _n_iterations, _model_name=''): \n",
    "    print '[{}] fitting'.format(datetime.now())\n",
    "    model.fit_offline(batch_vectorizer=batch_vectorizer, num_collection_passes=_n_iterations)\n",
    "    print '[{}] outputting'.format(datetime.now())\n",
    "    printer.print_artm_model(model, _model_name, _n_iterations, output_file=models_file)\n",
    "    model_pics_file_name =  path.join(config.experiment_path, _model_name)\n",
    "    plot_maker.make_tm_plots(model, model_pics_file_name)\n",
    "    model_output_file_name = path.join(config.experiment_path, _model_name + '.txt')\n",
    "    printer.print_scores(model, _model_name, _n_iterations, model_output_file_name)\n",
    "    printer.print_top_tokens(model, model_output_file_name)\n",
    "    return model\n",
    "def save_pickle_file(dists, filename):\n",
    "    pickle_filename = path.join(config.experiment_path, filename)\n",
    "    pickle_file = open(pickle_filename, 'wb')\n",
    "    pickle.dump(dists, pickle_file)\n",
    "    pickle_file.close()\n",
    "def load_pickle_file(filename):\n",
    "    pickle_filename = path.join(config.experiment_path, filename)\n",
    "    pickle_file = open(pickle_filename, 'rb')\n",
    "    p_file = pickle.load(pickle_file)\n",
    "    pickle_file.close()\n",
    "    return p_file\n",
    "def save_model_pickle(_model_name, _model, _save=True):\n",
    "    phi = _model.get_phi()\n",
    "    phi = phi[(phi.T != 0).any()]\n",
    "    theta = _model.get_theta()    \n",
    "    saved_top_tokens = _model.score_tracker['top_tokens_score'].last_tokens\n",
    "    if _save:\n",
    "        save_pickle_file(phi, 'phi_{}.p'.format(_model_name))\n",
    "        save_pickle_file(theta, 'theta_{}.p'.format(_model_name))\n",
    "        save_pickle_file(saved_top_tokens, 'saved_top_tokens_{}.p'.format(_model_name))\n",
    "    return phi, theta, saved_top_tokens\n",
    "def load_model_pickle(_model_name, _distance_name):\n",
    "    phi = load_pickle_file('phi_{}.p'.format(_model_name))\n",
    "    theta = load_pickle_file('theta_{}.p'.format(_model_name))\n",
    "    saved_top_tokens = load_pickle_file('saved_top_tokens_{}.p'.format(_model_name))\n",
    "    distances = load_pickle_file('{}.p'.format(_distance_name))\n",
    "    return phi, theta, saved_top_tokens, distances"
   ]
  },
  {
   "cell_type": "code",
   "execution_count": 7,
   "metadata": {
    "collapsed": true,
    "scrolled": false
   },
   "outputs": [],
   "source": [
    "batch_vectorizer = artm.BatchVectorizer(data_path=config.output_batches_path,\n",
    "                                        data_format='batches')\n",
    "dictionary = artm.Dictionary()\n",
    "dictionary.load(dictionary_path=config.dictionary_path + '.dict')"
   ]
  },
  {
   "cell_type": "code",
   "execution_count": 8,
   "metadata": {
    "collapsed": false
   },
   "outputs": [
    {
     "name": "stdout",
     "output_type": "stream",
     "text": [
      "[2016-12-20 23:45:47.528000] creating model\n",
      "[2016-12-20 23:45:49.223000] adding scores\n",
      "[2016-12-20 23:45:49.229000] fitting\n",
      "[2016-12-20 23:46:45.407000] outputting\n",
      "name = model_100_1, n_topics = 100, n_doc_passes = 5, seed_value = 100, n_iterations = 20, n_top_tokens = 15, p_threshold = 0.25\n",
      "\n"
     ]
    }
   ],
   "source": [
    "tmp_model = create_model(current_dictionary=dictionary, n_topics=100, n_doc_passes=5, seed_value=100,\n",
    "                            n_top_tokens=15, p_mass_threshold=0.25)\n",
    "tmp_model = fit_one_model(tmp_model, _n_iterations=20, _model_name='model_100_1')\n",
    "model1 = tmp_model; tmp_model = None"
   ]
  },
  {
   "cell_type": "code",
   "execution_count": 9,
   "metadata": {
    "collapsed": false,
    "scrolled": false
   },
   "outputs": [
    {
     "name": "stdout",
     "output_type": "stream",
     "text": [
      "[2016-12-20 23:47:11.195000] creating model\n",
      "[2016-12-20 23:47:12.799000] adding scores\n",
      "[2016-12-20 23:47:12.899000] fitting\n",
      "[2016-12-20 23:48:13.317000] outputting\n",
      "name = model_100_2, n_topics = 100, n_doc_passes = 5, seed_value = 100, n_iterations = 20, n_top_tokens = 15, p_threshold = 0.25\n",
      "ss_theta_regularizer, tau = -0.1\n",
      "decorrelator_phi_regularizer, tau = 100\n",
      "ss_phi_regularizer, tau = -0.05\n",
      "\n"
     ]
    }
   ],
   "source": [
    "tmp_model = create_model(current_dictionary=dictionary, n_topics=100, n_doc_passes=5, seed_value=100,\n",
    "                            n_top_tokens=15, p_mass_threshold=0.25)\n",
    "tmp_model.regularizers.add(artm.DecorrelatorPhiRegularizer(name='decorrelator_phi_regularizer', class_ids=['ngramm']))\n",
    "tmp_model.regularizers.add(artm.SmoothSparseThetaRegularizer(name='ss_theta_regularizer'))\n",
    "tmp_model.regularizers.add(artm.SmoothSparsePhiRegularizer(name='ss_phi_regularizer', class_ids=['ngramm']))\n",
    "tmp_model.regularizers['decorrelator_phi_regularizer'].tau = 100\n",
    "tmp_model.regularizers['ss_theta_regularizer'].tau = -0.1\n",
    "tmp_model.regularizers['ss_phi_regularizer'].tau = -0.05\n",
    "tmp_model = fit_one_model(tmp_model, _n_iterations=20, _model_name='model_100_2')\n",
    "model2 = tmp_model; tmp_model = None"
   ]
  },
  {
   "cell_type": "code",
   "execution_count": 12,
   "metadata": {
    "collapsed": false
   },
   "outputs": [
    {
     "name": "stdout",
     "output_type": "stream",
     "text": [
      "[2016-12-21 00:19:52.458000] creating model\n",
      "[2016-12-21 00:19:54.451000] adding scores\n",
      "[2016-12-21 00:19:54.466000] fitting\n",
      "[2016-12-21 00:20:36.358000] outputting\n",
      "name = model_100_3, n_topics = 100, n_doc_passes = 5, seed_value = 100, n_iterations = 20, n_top_tokens = 15, p_threshold = 0.25\n",
      "ss_theta_regularizer, tau = -0.2\n",
      "decorrelator_phi_regularizer, tau = 100\n",
      "ss_phi_regularizer, tau = -0.1\n",
      "\n"
     ]
    }
   ],
   "source": [
    "tmp_model = create_model(current_dictionary=dictionary, n_topics=100, n_doc_passes=5, seed_value=100,\n",
    "                            n_top_tokens=15, p_mass_threshold=0.25)\n",
    "tmp_model.regularizers.add(artm.DecorrelatorPhiRegularizer(name='decorrelator_phi_regularizer', class_ids=['ngramm']))\n",
    "tmp_model.regularizers.add(artm.SmoothSparseThetaRegularizer(name='ss_theta_regularizer'))\n",
    "tmp_model.regularizers.add(artm.SmoothSparsePhiRegularizer(name='ss_phi_regularizer', class_ids=['ngramm']))\n",
    "tmp_model.regularizers['decorrelator_phi_regularizer'].tau = 100\n",
    "tmp_model.regularizers['ss_theta_regularizer'].tau = -0.2\n",
    "tmp_model.regularizers['ss_phi_regularizer'].tau = -0.1\n",
    "tmp_model = fit_one_model(tmp_model, _n_iterations=20, _model_name='model_100_3')"
   ]
  },
  {
   "cell_type": "code",
   "execution_count": 13,
   "metadata": {
    "collapsed": false
   },
   "outputs": [
    {
     "name": "stdout",
     "output_type": "stream",
     "text": [
      "[2016-12-21 00:26:37.765000] creating model\n",
      "[2016-12-21 00:26:39.217000] adding scores\n",
      "[2016-12-21 00:26:39.266000] fitting\n",
      "[2016-12-21 00:27:22.283000] outputting\n",
      "name = model_100_4, n_topics = 100, n_doc_passes = 5, seed_value = 100, n_iterations = 20, n_top_tokens = 15, p_threshold = 0.25\n",
      "ss_theta_regularizer, tau = -0.3\n",
      "decorrelator_phi_regularizer, tau = 1000\n",
      "ss_phi_regularizer, tau = -0.2\n",
      "\n"
     ]
    }
   ],
   "source": [
    "tmp_model = create_model(current_dictionary=dictionary, n_topics=100, n_doc_passes=5, seed_value=100,\n",
    "                            n_top_tokens=15, p_mass_threshold=0.25)\n",
    "tmp_model.regularizers.add(artm.DecorrelatorPhiRegularizer(name='decorrelator_phi_regularizer', class_ids=['ngramm']))\n",
    "tmp_model.regularizers.add(artm.SmoothSparseThetaRegularizer(name='ss_theta_regularizer'))\n",
    "tmp_model.regularizers.add(artm.SmoothSparsePhiRegularizer(name='ss_phi_regularizer', class_ids=['ngramm']))\n",
    "tmp_model.regularizers['decorrelator_phi_regularizer'].tau = 1000\n",
    "tmp_model.regularizers['ss_theta_regularizer'].tau = -0.3\n",
    "tmp_model.regularizers['ss_phi_regularizer'].tau = -0.2\n",
    "tmp_model = fit_one_model(tmp_model, _n_iterations=20, _model_name='model_100_4')"
   ]
  },
  {
   "cell_type": "code",
   "execution_count": 14,
   "metadata": {
    "collapsed": false
   },
   "outputs": [
    {
     "name": "stdout",
     "output_type": "stream",
     "text": [
      "[2016-12-21 00:47:46.115000] creating model\n",
      "[2016-12-21 00:48:00.636000] adding scores\n",
      "[2016-12-21 00:48:01.305000] fitting\n",
      "[2016-12-21 00:49:39.164000] outputting\n",
      "name = model_100_5, n_topics = 100, n_doc_passes = 5, seed_value = 100, n_iterations = 20, n_top_tokens = 15, p_threshold = 0.25\n",
      "ss_theta_regularizer, tau = -0.5\n",
      "decorrelator_phi_regularizer, tau = 1000\n",
      "ss_phi_regularizer, tau = -0.5\n",
      "\n"
     ]
    }
   ],
   "source": [
    "tmp_model = create_model(current_dictionary=dictionary, n_topics=100, n_doc_passes=5, seed_value=100,\n",
    "                            n_top_tokens=15, p_mass_threshold=0.25)\n",
    "tmp_model.regularizers.add(artm.DecorrelatorPhiRegularizer(name='decorrelator_phi_regularizer', class_ids=['ngramm']))\n",
    "tmp_model.regularizers.add(artm.SmoothSparseThetaRegularizer(name='ss_theta_regularizer'))\n",
    "tmp_model.regularizers.add(artm.SmoothSparsePhiRegularizer(name='ss_phi_regularizer', class_ids=['ngramm']))\n",
    "tmp_model.regularizers['decorrelator_phi_regularizer'].tau = 1000\n",
    "tmp_model.regularizers['ss_theta_regularizer'].tau = -0.5\n",
    "tmp_model.regularizers['ss_phi_regularizer'].tau = -0.5\n",
    "tmp_model = fit_one_model(tmp_model, _n_iterations=20, _model_name='model_100_5')"
   ]
  },
  {
   "cell_type": "code",
   "execution_count": 15,
   "metadata": {
    "collapsed": false
   },
   "outputs": [
    {
     "name": "stdout",
     "output_type": "stream",
     "text": [
      "[2016-12-21 01:59:53.081000] creating model\n",
      "[2016-12-21 02:00:15.179000] adding scores\n",
      "[2016-12-21 02:00:18.596000] fitting\n",
      "[2016-12-21 02:00:48.104000] outputting\n",
      "name = model_100_6, n_topics = 100, n_doc_passes = 5, seed_value = 100, n_iterations = 20, n_top_tokens = 15, p_threshold = 0.25\n",
      "ss_theta_regularizer, tau = -1\n",
      "decorrelator_phi_regularizer, tau = 1000\n",
      "ss_phi_regularizer, tau = -1\n",
      "\n"
     ]
    }
   ],
   "source": [
    "tmp_model = create_model(current_dictionary=dictionary, n_topics=100, n_doc_passes=5, seed_value=100,\n",
    "                            n_top_tokens=15, p_mass_threshold=0.25)\n",
    "tmp_model.regularizers.add(artm.DecorrelatorPhiRegularizer(name='decorrelator_phi_regularizer', class_ids=['ngramm']))\n",
    "tmp_model.regularizers.add(artm.SmoothSparseThetaRegularizer(name='ss_theta_regularizer'))\n",
    "tmp_model.regularizers.add(artm.SmoothSparsePhiRegularizer(name='ss_phi_regularizer', class_ids=['ngramm']))\n",
    "tmp_model.regularizers['decorrelator_phi_regularizer'].tau = 1000\n",
    "tmp_model.regularizers['ss_theta_regularizer'].tau = -1\n",
    "tmp_model.regularizers['ss_phi_regularizer'].tau = -1\n",
    "tmp_model = fit_one_model(tmp_model, _n_iterations=20, _model_name='model_100_6')"
   ]
  },
  {
   "cell_type": "code",
   "execution_count": 16,
   "metadata": {
    "collapsed": false
   },
   "outputs": [
    {
     "name": "stdout",
     "output_type": "stream",
     "text": [
      "[2016-12-21 02:03:11.721000] creating model\n",
      "[2016-12-21 02:03:13.063000] adding scores\n",
      "[2016-12-21 02:03:13.179000] fitting\n",
      "[2016-12-21 02:03:43.816000] outputting\n",
      "name = model_100_7, n_topics = 100, n_doc_passes = 5, seed_value = 100, n_iterations = 20, n_top_tokens = 15, p_threshold = 0.25\n",
      "ss_theta_regularizer, tau = -1\n",
      "decorrelator_phi_regularizer, tau = 100\n",
      "ss_phi_regularizer, tau = -1\n",
      "\n"
     ]
    }
   ],
   "source": [
    "tmp_model = create_model(current_dictionary=dictionary, n_topics=100, n_doc_passes=5, seed_value=100,\n",
    "                            n_top_tokens=15, p_mass_threshold=0.25)\n",
    "tmp_model.regularizers.add(artm.DecorrelatorPhiRegularizer(name='decorrelator_phi_regularizer', class_ids=['ngramm']))\n",
    "tmp_model.regularizers.add(artm.SmoothSparseThetaRegularizer(name='ss_theta_regularizer'))\n",
    "tmp_model.regularizers.add(artm.SmoothSparsePhiRegularizer(name='ss_phi_regularizer', class_ids=['ngramm']))\n",
    "tmp_model.regularizers['decorrelator_phi_regularizer'].tau = 100\n",
    "tmp_model.regularizers['ss_theta_regularizer'].tau = -1\n",
    "tmp_model.regularizers['ss_phi_regularizer'].tau = -1\n",
    "tmp_model = fit_one_model(tmp_model, _n_iterations=20, _model_name='model_100_7')"
   ]
  },
  {
   "cell_type": "code",
   "execution_count": 17,
   "metadata": {
    "collapsed": false
   },
   "outputs": [
    {
     "name": "stdout",
     "output_type": "stream",
     "text": [
      "[2016-12-21 02:05:08.875000] creating model\n",
      "[2016-12-21 02:05:10.004000] adding scores\n",
      "[2016-12-21 02:05:10.104000] fitting\n",
      "[2016-12-21 02:05:40.387000] outputting\n",
      "name = model_100_8, n_topics = 100, n_doc_passes = 5, seed_value = 100, n_iterations = 20, n_top_tokens = 15, p_threshold = 0.25\n",
      "ss_theta_regularizer, tau = -1\n",
      "decorrelator_phi_regularizer, tau = 10\n",
      "ss_phi_regularizer, tau = -1\n",
      "\n"
     ]
    }
   ],
   "source": [
    "tmp_model = create_model(current_dictionary=dictionary, n_topics=100, n_doc_passes=5, seed_value=100,\n",
    "                            n_top_tokens=15, p_mass_threshold=0.25)\n",
    "tmp_model.regularizers.add(artm.DecorrelatorPhiRegularizer(name='decorrelator_phi_regularizer', class_ids=['ngramm']))\n",
    "tmp_model.regularizers.add(artm.SmoothSparseThetaRegularizer(name='ss_theta_regularizer'))\n",
    "tmp_model.regularizers.add(artm.SmoothSparsePhiRegularizer(name='ss_phi_regularizer', class_ids=['ngramm']))\n",
    "tmp_model.regularizers['decorrelator_phi_regularizer'].tau = 10\n",
    "tmp_model.regularizers['ss_theta_regularizer'].tau = -1\n",
    "tmp_model.regularizers['ss_phi_regularizer'].tau = -1\n",
    "tmp_model = fit_one_model(tmp_model, _n_iterations=20, _model_name='model_100_8')"
   ]
  },
  {
   "cell_type": "code",
   "execution_count": null,
   "metadata": {
    "collapsed": true
   },
   "outputs": [],
   "source": [
    "# top words better"
   ]
  },
  {
   "cell_type": "code",
   "execution_count": 18,
   "metadata": {
    "collapsed": false
   },
   "outputs": [
    {
     "name": "stdout",
     "output_type": "stream",
     "text": [
      "[2016-12-21 02:08:47.555000] creating model\n",
      "[2016-12-21 02:08:48.741000] adding scores\n",
      "[2016-12-21 02:08:48.825000] fitting\n",
      "[2016-12-21 02:09:21.410000] outputting\n",
      "name = model_100_9, n_topics = 100, n_doc_passes = 5, seed_value = 100, n_iterations = 20, n_top_tokens = 15, p_threshold = 0.25\n",
      "ss_theta_regularizer, tau = -1\n",
      "decorrelator_phi_regularizer, tau = 5\n",
      "ss_phi_regularizer, tau = -1\n",
      "\n"
     ]
    }
   ],
   "source": [
    "tmp_model = create_model(current_dictionary=dictionary, n_topics=100, n_doc_passes=5, seed_value=100,\n",
    "                            n_top_tokens=15, p_mass_threshold=0.25)\n",
    "tmp_model.regularizers.add(artm.DecorrelatorPhiRegularizer(name='decorrelator_phi_regularizer', class_ids=['ngramm']))\n",
    "tmp_model.regularizers.add(artm.SmoothSparseThetaRegularizer(name='ss_theta_regularizer'))\n",
    "tmp_model.regularizers.add(artm.SmoothSparsePhiRegularizer(name='ss_phi_regularizer', class_ids=['ngramm']))\n",
    "tmp_model.regularizers['decorrelator_phi_regularizer'].tau = 5\n",
    "tmp_model.regularizers['ss_theta_regularizer'].tau = -1\n",
    "tmp_model.regularizers['ss_phi_regularizer'].tau = -1\n",
    "tmp_model = fit_one_model(tmp_model, _n_iterations=20, _model_name='model_100_9')"
   ]
  },
  {
   "cell_type": "code",
   "execution_count": 20,
   "metadata": {
    "collapsed": true
   },
   "outputs": [],
   "source": [
    "model9 = tmp_model"
   ]
  },
  {
   "cell_type": "code",
   "execution_count": null,
   "metadata": {
    "collapsed": true
   },
   "outputs": [],
   "source": []
  },
  {
   "cell_type": "code",
   "execution_count": 19,
   "metadata": {
    "collapsed": true,
    "scrolled": false
   },
   "outputs": [],
   "source": [
    "def calculate_distances(dist_fun, _phi, _phi_other):\n",
    "    print '[{}] take_distances between {} columns and {} columns'.format(datetime.now(), len(_phi.columns), len(_phi_other.columns))\n",
    "    distances = pd.DataFrame(0, index = _phi.columns, columns=_phi_other.columns)\n",
    "    for idx, col in enumerate(_phi.columns):\n",
    "        print '[{}] column num {} of {}'.format(datetime.now(), idx, len(_phi.columns))\n",
    "        for idx_other, col_other in enumerate(_phi_other.columns):\n",
    "            distance = dist_fun(_phi[col], _phi_other[col_other])\n",
    "            distances.iloc[idx, idx_other] = distance\n",
    "    return distances\n",
    "def get_optimization_result_one_matrix(dist_fn, jac_dist_fn, phi, distances):\n",
    "    opt_results = {}\n",
    "    for col_idx, col_name in enumerate(phi.columns):\n",
    "        print '[{}] get_optimization_result for column {}'.format(datetime.now(), col_idx)\n",
    "        column = phi[col_name]\n",
    "        # delete col from phi\n",
    "        phi_cut = phi.drop(col_name, axis=1)\n",
    "        opt_results[col_name] = solve_optimization_problem(dist_fn, jac_dist_fn, column, col_name, phi_cut, distances)\n",
    "    return opt_results\n",
    "def get_optimization_result(dist_fn, jac_dist_fn, phi, phi_other, distances):\n",
    "    opt_results = {}\n",
    "    for col_idx, col_name in enumerate(phi.columns):\n",
    "        print '[{}] get_optimization_result for column {}'.format(datetime.now(), col_idx)        \n",
    "        column = phi[col_name]\n",
    "        opt_results[col_name] = solve_optimization_problem(dist_fn, jac_dist_fn, column, column_name, phi_other, distances)\n",
    "    return opt_results\n",
    "def solve_optimization_problem(dist_fn, jac_dist_fn, column, column_name, phi, distances, verbose=False):\n",
    "    max_iter = 50\n",
    "    phi_columns = phi.columns\n",
    "    # cut distances by phi columns \n",
    "    cut_distances = distances.loc[phi_columns]\n",
    "    # get n closest topics\n",
    "    closest_column_names = cut_distances[column_name].sort_values().head(N_CLOSEST_TOPICS).index.values\n",
    "    phi_closest = phi[closest_column_names]\n",
    "    \n",
    "    # opt solver\n",
    "    n_columns = phi_closest.shape[1] \n",
    "    bnds = [(0, 1)] * n_columns\n",
    "    constraints = cons = ({'type': 'eq', 'fun': lambda x:  np.sum(x) - 1, 'jac': lambda x: [1] * n_columns})\n",
    "    opt_fun = lambda x: dist_fn(column, phi_closest.dot(x))\n",
    "    jac_fun = lambda x: jac_dist_fn(column, phi_closest, x)\n",
    "    \n",
    "    is_optimized = False\n",
    "    it = 0\n",
    "    while (not is_optimized) and it != 4:\n",
    "        it += 1\n",
    "        init_x = np.random.uniform(0, 1, (1, n_columns))\n",
    "        init_x /= np.sum(init_x)\n",
    "        if jac_dist_fn is not None:\n",
    "            res = minimize(opt_fun, jac=jac_fun, x0=init_x, method='SLSQP', bounds=bnds, constraints=cons, options={'maxiter': max_iter, 'disp': verbose})\n",
    "        else:\n",
    "            res = minimize(opt_fun, x0=init_x, method='SLSQP', bounds=bnds, constraints=cons, options={'maxiter': max_iter, 'disp': verbose})\n",
    "        is_optimized = res.success\n",
    "    if not is_optimized:\n",
    "        print 'Not optimized' \n",
    "    res['column_names'] = phi_closest.columns\n",
    "    res['optimized_column'] = column_name\n",
    "    return res"
   ]
  },
  {
   "cell_type": "code",
   "execution_count": 21,
   "metadata": {
    "collapsed": false,
    "scrolled": true
   },
   "outputs": [
    {
     "name": "stdout",
     "output_type": "stream",
     "text": [
      "[2016-12-21 02:23:32.992000] take_distances between 100 columns and 100 columns\n",
      "[2016-12-21 02:23:33.008000] column num 0 of 100\n",
      "[2016-12-21 02:23:33.233000] column num 1 of 100\n",
      "[2016-12-21 02:23:33.340000] column num 2 of 100\n",
      "[2016-12-21 02:23:33.450000] column num 3 of 100\n",
      "[2016-12-21 02:23:33.545000] column num 4 of 100\n",
      "[2016-12-21 02:23:33.640000] column num 5 of 100\n",
      "[2016-12-21 02:23:33.749000] column num 6 of 100\n",
      "[2016-12-21 02:23:33.871000] column num 7 of 100\n",
      "[2016-12-21 02:23:34.028000] column num 8 of 100\n",
      "[2016-12-21 02:23:34.125000] column num 9 of 100\n",
      "[2016-12-21 02:23:34.209000] column num 10 of 100\n",
      "[2016-12-21 02:23:34.325000] column num 11 of 100\n",
      "[2016-12-21 02:23:34.425000] column num 12 of 100\n",
      "[2016-12-21 02:23:34.586000] column num 13 of 100\n",
      "[2016-12-21 02:23:34.680000] column num 14 of 100\n",
      "[2016-12-21 02:23:34.773000] column num 15 of 100\n",
      "[2016-12-21 02:23:34.884000] column num 16 of 100\n",
      "[2016-12-21 02:23:34.957000] column num 17 of 100\n",
      "[2016-12-21 02:23:35.058000] column num 18 of 100\n",
      "[2016-12-21 02:23:35.164000] column num 19 of 100\n",
      "[2016-12-21 02:23:35.242000] column num 20 of 100\n",
      "[2016-12-21 02:23:35.327000] column num 21 of 100\n",
      "[2016-12-21 02:23:35.448000] column num 22 of 100\n",
      "[2016-12-21 02:23:35.527000] column num 23 of 100\n",
      "[2016-12-21 02:23:35.612000] column num 24 of 100\n",
      "[2016-12-21 02:23:35.724000] column num 25 of 100\n",
      "[2016-12-21 02:23:35.796000] column num 26 of 100\n",
      "[2016-12-21 02:23:35.896000] column num 27 of 100\n",
      "[2016-12-21 02:23:36.026000] column num 28 of 100\n",
      "[2016-12-21 02:23:36.113000] column num 29 of 100\n",
      "[2016-12-21 02:23:36.197000] column num 30 of 100\n",
      "[2016-12-21 02:23:36.332000] column num 31 of 100\n",
      "[2016-12-21 02:23:36.444000] column num 32 of 100\n",
      "[2016-12-21 02:23:36.570000] column num 33 of 100\n",
      "[2016-12-21 02:23:36.664000] column num 34 of 100\n",
      "[2016-12-21 02:23:36.766000] column num 35 of 100\n",
      "[2016-12-21 02:23:36.900000] column num 36 of 100\n",
      "[2016-12-21 02:23:36.996000] column num 37 of 100\n",
      "[2016-12-21 02:23:37.098000] column num 38 of 100\n",
      "[2016-12-21 02:23:37.214000] column num 39 of 100\n",
      "[2016-12-21 02:23:37.299000] column num 40 of 100\n",
      "[2016-12-21 02:23:37.397000] column num 41 of 100\n",
      "[2016-12-21 02:23:37.499000] column num 42 of 100\n",
      "[2016-12-21 02:23:37.599000] column num 43 of 100\n",
      "[2016-12-21 02:23:37.699000] column num 44 of 100\n",
      "[2016-12-21 02:23:37.800000] column num 45 of 100\n",
      "[2016-12-21 02:23:37.899000] column num 46 of 100\n",
      "[2016-12-21 02:23:38] column num 47 of 100\n",
      "[2016-12-21 02:23:38.123000] column num 48 of 100\n",
      "[2016-12-21 02:23:38.216000] column num 49 of 100\n",
      "[2016-12-21 02:23:38.315000] column num 50 of 100\n",
      "[2016-12-21 02:23:38.431000] column num 51 of 100\n",
      "[2016-12-21 02:23:38.534000] column num 52 of 100\n",
      "[2016-12-21 02:23:38.615000] column num 53 of 100\n",
      "[2016-12-21 02:23:38.731000] column num 54 of 100\n",
      "[2016-12-21 02:23:38.816000] column num 55 of 100\n",
      "[2016-12-21 02:23:38.916000] column num 56 of 100\n",
      "[2016-12-21 02:23:39.038000] column num 57 of 100\n",
      "[2016-12-21 02:23:39.131000] column num 58 of 100\n",
      "[2016-12-21 02:23:39.216000] column num 59 of 100\n",
      "[2016-12-21 02:23:39.331000] column num 60 of 100\n",
      "[2016-12-21 02:23:39.432000] column num 61 of 100\n",
      "[2016-12-21 02:23:39.526000] column num 62 of 100\n",
      "[2016-12-21 02:23:39.663000] column num 63 of 100\n",
      "[2016-12-21 02:23:39.849000] column num 64 of 100\n",
      "[2016-12-21 02:23:40.023000] column num 65 of 100\n",
      "[2016-12-21 02:23:40.132000] column num 66 of 100\n",
      "[2016-12-21 02:23:40.251000] column num 67 of 100\n",
      "[2016-12-21 02:23:40.348000] column num 68 of 100\n",
      "[2016-12-21 02:23:40.447000] column num 69 of 100\n",
      "[2016-12-21 02:23:40.548000] column num 70 of 100\n",
      "[2016-12-21 02:23:40.648000] column num 71 of 100\n",
      "[2016-12-21 02:23:40.758000] column num 72 of 100\n",
      "[2016-12-21 02:23:40.865000] column num 73 of 100\n",
      "[2016-12-21 02:23:40.970000] column num 74 of 100\n",
      "[2016-12-21 02:23:41.063000] column num 75 of 100\n",
      "[2016-12-21 02:23:41.164000] column num 76 of 100\n",
      "[2016-12-21 02:23:41.280000] column num 77 of 100\n",
      "[2016-12-21 02:23:41.365000] column num 78 of 100\n",
      "[2016-12-21 02:23:41.475000] column num 79 of 100\n",
      "[2016-12-21 02:23:41.582000] column num 80 of 100\n",
      "[2016-12-21 02:23:41.754000] column num 81 of 100\n",
      "[2016-12-21 02:23:41.877000] column num 82 of 100\n",
      "[2016-12-21 02:23:41.988000] column num 83 of 100\n",
      "[2016-12-21 02:23:42.078000] column num 84 of 100\n",
      "[2016-12-21 02:23:42.202000] column num 85 of 100\n",
      "[2016-12-21 02:23:42.349000] column num 86 of 100\n",
      "[2016-12-21 02:23:42.461000] column num 87 of 100\n",
      "[2016-12-21 02:23:42.563000] column num 88 of 100\n",
      "[2016-12-21 02:23:42.650000] column num 89 of 100\n",
      "[2016-12-21 02:23:42.763000] column num 90 of 100\n",
      "[2016-12-21 02:23:42.866000] column num 91 of 100\n",
      "[2016-12-21 02:23:42.949000] column num 92 of 100\n",
      "[2016-12-21 02:23:43.048000] column num 93 of 100\n",
      "[2016-12-21 02:23:43.135000] column num 94 of 100\n",
      "[2016-12-21 02:23:43.235000] column num 95 of 100\n",
      "[2016-12-21 02:23:43.347000] column num 96 of 100\n",
      "[2016-12-21 02:23:43.435000] column num 97 of 100\n",
      "[2016-12-21 02:23:43.519000] column num 98 of 100\n",
      "[2016-12-21 02:23:43.675000] column num 99 of 100\n"
     ]
    }
   ],
   "source": [
    "phi1, theta1, saved_top_tokens1 = save_model_pickle('model_100_9', model9)\n",
    "distances_hellinger_model1 = calculate_distances(dh.hellinger_dist, phi1, phi1)\n",
    "save_pickle_file(distances_hellinger_model1, 'distances_hellinger_model_100_9.p')"
   ]
  },
  {
   "cell_type": "code",
   "execution_count": 6,
   "metadata": {
    "collapsed": false
   },
   "outputs": [],
   "source": [
    "phi1, theta1, saved_top_tokens1, distances_hellinger_model1 = load_model_pickle('model_100_9', 'distances_hellinger_model_100_9')"
   ]
  },
  {
   "cell_type": "code",
   "execution_count": 22,
   "metadata": {
    "collapsed": false
   },
   "outputs": [
    {
     "data": {
      "text/plain": [
       "<matplotlib.axes._subplots.AxesSubplot at 0x13a60588>"
      ]
     },
     "execution_count": 22,
     "metadata": {},
     "output_type": "execute_result"
    },
    {
     "data": {
      "image/png": "[encoded data removed]",
      "text/plain": [
       "<matplotlib.figure.Figure at 0x13d9b630>"
      ]
     },
     "metadata": {},
     "output_type": "display_data"
    }
   ],
   "source": [
    "# построим распределение полученных distances\n",
    "%matplotlib inline\n",
    "vals = distances_hellinger_model1.values.flatten()\n",
    "sns.distplot(vals[vals != 0], color='r')"
   ]
  },
  {
   "cell_type": "code",
   "execution_count": 23,
   "metadata": {
    "collapsed": true
   },
   "outputs": [],
   "source": [
    "N_CLOSEST_TOPICS = 50\n",
    "NUM_INDICES = 10"
   ]
  },
  {
   "cell_type": "code",
   "execution_count": 24,
   "metadata": {
    "collapsed": false,
    "scrolled": true
   },
   "outputs": [
    {
     "name": "stdout",
     "output_type": "stream",
     "text": [
      "[2016-12-21 02:24:47.283000] get_optimization_result for column 0\n",
      "[2016-12-21 02:24:51.858000] get_optimization_result for column 1\n",
      "[2016-12-21 02:24:52.349000] get_optimization_result for column 2\n",
      "[2016-12-21 02:24:56.336000] get_optimization_result for column 3\n",
      "[2016-12-21 02:25:00.741000] get_optimization_result for column 4\n",
      "[2016-12-21 02:25:03.642000] get_optimization_result for column 5\n",
      "[2016-12-21 02:25:07.200000] get_optimization_result for column 6\n",
      "[2016-12-21 02:25:13.073000] get_optimization_result for column 7\n",
      "[2016-12-21 02:25:16.938000] get_optimization_result for column 8\n",
      "[2016-12-21 02:25:19.792000] get_optimization_result for column 9\n",
      "[2016-12-21 02:25:23.440000] get_optimization_result for column 10\n",
      "[2016-12-21 02:25:27.462000] get_optimization_result for column 11\n",
      "[2016-12-21 02:25:31.209000] get_optimization_result for column 12\n",
      "[2016-12-21 02:25:35.546000] get_optimization_result for column 13\n",
      "[2016-12-21 02:25:38.220000] get_optimization_result for column 14\n",
      "[2016-12-21 02:25:42.268000] get_optimization_result for column 15\n",
      "[2016-12-21 02:25:47.392000] get_optimization_result for column 16\n",
      "[2016-12-21 02:25:53.988000] get_optimization_result for column 17\n",
      "[2016-12-21 02:25:59.659000] get_optimization_result for column 18\n",
      "[2016-12-21 02:26:00.563000] get_optimization_result for column 19\n",
      "[2016-12-21 02:26:04.029000] get_optimization_result for column 20\n",
      "[2016-12-21 02:26:06.664000] get_optimization_result for column 21\n",
      "[2016-12-21 02:26:10.127000] get_optimization_result for column 22\n",
      "[2016-12-21 02:26:14.927000] get_optimization_result for column 23\n",
      "[2016-12-21 02:26:18.098000] get_optimization_result for column 24\n",
      "[2016-12-21 02:26:21.420000] get_optimization_result for column 25\n",
      "[2016-12-21 02:26:25.003000] get_optimization_result for column 26\n",
      "[2016-12-21 02:26:27.992000] get_optimization_result for column 27\n",
      "[2016-12-21 02:26:31.965000] get_optimization_result for column 28\n",
      "[2016-12-21 02:26:34] get_optimization_result for column 29\n",
      "[2016-12-21 02:26:37.120000] get_optimization_result for column 30\n",
      "[2016-12-21 02:26:44.542000] get_optimization_result for column 31\n",
      "[2016-12-21 02:26:47.103000] get_optimization_result for column 32\n",
      "[2016-12-21 02:26:49.742000] get_optimization_result for column 33\n",
      "[2016-12-21 02:26:50.743000] get_optimization_result for column 34\n",
      "[2016-12-21 02:26:53.648000] get_optimization_result for column 35\n",
      "[2016-12-21 02:26:58.726000] get_optimization_result for column 36\n",
      "[2016-12-21 02:27:00.415000] get_optimization_result for column 37\n",
      "[2016-12-21 02:27:06.008000] get_optimization_result for column 38\n",
      "[2016-12-21 02:27:06.575000] get_optimization_result for column 39\n",
      "[2016-12-21 02:27:09.028000] get_optimization_result for column 40\n",
      "[2016-12-21 02:27:27.027000] get_optimization_result for column 41\n",
      "[2016-12-21 02:27:30.416000] get_optimization_result for column 42\n",
      "[2016-12-21 02:27:33.572000] get_optimization_result for column 43\n",
      "[2016-12-21 02:27:36.754000] get_optimization_result for column 44\n",
      "[2016-12-21 02:27:39.154000] get_optimization_result for column 45\n",
      "[2016-12-21 02:27:44.926000] get_optimization_result for column 46\n",
      "[2016-12-21 02:27:46.940000] get_optimization_result for column 47\n",
      "[2016-12-21 02:27:49.914000] get_optimization_result for column 48\n",
      "[2016-12-21 02:27:53.002000] get_optimization_result for column 49\n",
      "[2016-12-21 02:28:01.034000] get_optimization_result for column 50\n",
      "[2016-12-21 02:28:02.340000] get_optimization_result for column 51\n",
      "[2016-12-21 02:28:05.713000] get_optimization_result for column 52\n",
      "[2016-12-21 02:28:09.792000] get_optimization_result for column 53\n",
      "[2016-12-21 02:28:13.581000] get_optimization_result for column 54\n",
      "[2016-12-21 02:28:38.495000] get_optimization_result for column 55\n",
      "[2016-12-21 02:28:40.383000] get_optimization_result for column 56\n",
      "[2016-12-21 02:28:43.269000] get_optimization_result for column 57\n",
      "[2016-12-21 02:28:46.897000] get_optimization_result for column 58\n",
      "[2016-12-21 02:28:49.793000] get_optimization_result for column 59\n",
      "[2016-12-21 02:28:52.439000] get_optimization_result for column 60\n",
      "[2016-12-21 02:28:55.684000] get_optimization_result for column 61\n",
      "[2016-12-21 02:28:56.489000] get_optimization_result for column 62\n",
      "[2016-12-21 02:28:59.266000] get_optimization_result for column 63\n",
      "[2016-12-21 02:29:02.633000] get_optimization_result for column 64\n",
      "[2016-12-21 02:29:05.611000] get_optimization_result for column 65\n",
      "[2016-12-21 02:29:07.497000] get_optimization_result for column 66\n",
      "[2016-12-21 02:29:11.394000] get_optimization_result for column 67\n",
      "[2016-12-21 02:29:14.451000] get_optimization_result for column 68\n",
      "[2016-12-21 02:29:17.314000] get_optimization_result for column 69\n",
      "[2016-12-21 02:29:23.617000] get_optimization_result for column 70\n",
      "[2016-12-21 02:29:26.601000] get_optimization_result for column 71\n",
      "[2016-12-21 02:29:35.886000] get_optimization_result for column 72\n",
      "[2016-12-21 02:29:39.495000] get_optimization_result for column 73\n",
      "[2016-12-21 02:29:51.481000] get_optimization_result for column 74\n",
      "[2016-12-21 02:29:54.761000] get_optimization_result for column 75\n",
      "[2016-12-21 02:29:57.877000] get_optimization_result for column 76\n",
      "[2016-12-21 02:30:11.730000] get_optimization_result for column 77\n",
      "[2016-12-21 02:30:15.395000] get_optimization_result for column 78\n",
      "[2016-12-21 02:30:19.440000] get_optimization_result for column 79\n",
      "[2016-12-21 02:30:21.709000] get_optimization_result for column 80\n",
      "[2016-12-21 02:30:27.843000] get_optimization_result for column 81\n",
      "[2016-12-21 02:30:32.065000] get_optimization_result for column 82\n",
      "[2016-12-21 02:30:35.297000] get_optimization_result for column 83\n",
      "[2016-12-21 02:30:38.805000] get_optimization_result for column 84\n",
      "[2016-12-21 02:30:41.288000] get_optimization_result for column 85\n",
      "[2016-12-21 02:30:42.636000] get_optimization_result for column 86\n",
      "[2016-12-21 02:30:51.785000] get_optimization_result for column 87\n",
      "[2016-12-21 02:30:57.236000] get_optimization_result for column 88\n",
      "[2016-12-21 02:30:59.108000] get_optimization_result for column 89\n",
      "[2016-12-21 02:31:03.329000] get_optimization_result for column 90\n",
      "[2016-12-21 02:31:04.240000] get_optimization_result for column 91\n",
      "[2016-12-21 02:31:05.898000] get_optimization_result for column 92\n",
      "[2016-12-21 02:31:07.841000] get_optimization_result for column 93\n",
      "[2016-12-21 02:31:11.818000] get_optimization_result for column 94\n",
      "[2016-12-21 02:31:14.661000] get_optimization_result for column 95\n",
      "[2016-12-21 02:31:17.963000] get_optimization_result for column 96\n",
      "[2016-12-21 02:31:18.424000] get_optimization_result for column 97\n",
      "[2016-12-21 02:31:18.883000] get_optimization_result for column 98\n",
      "[2016-12-21 02:31:22.075000] get_optimization_result for column 99\n"
     ]
    }
   ],
   "source": [
    "opt_res_hellinger_model1 = get_optimization_result_one_matrix(dh.hellinger_dist, None, phi1, distances_hellinger_model1)\n",
    "save_pickle_file(opt_res_hellinger_model1, 'opt_res_hellinger_model_100_9.p')"
   ]
  },
  {
   "cell_type": "code",
   "execution_count": 14,
   "metadata": {
    "collapsed": false
   },
   "outputs": [],
   "source": [
    "opt_res_hellinger_model1 = load_pickle_file('opt_res_hellinger_model_100_9.p')"
   ]
  },
  {
   "cell_type": "code",
   "execution_count": null,
   "metadata": {
    "collapsed": false,
    "scrolled": false
   },
   "outputs": [],
   "source": [
    "# построим распределение полученных opt_fun "
   ]
  },
  {
   "cell_type": "code",
   "execution_count": 28,
   "metadata": {
    "collapsed": false,
    "scrolled": false
   },
   "outputs": [
    {
     "data": {
      "text/plain": [
       "<matplotlib.axes._subplots.AxesSubplot at 0x136ca630>"
      ]
     },
     "execution_count": 28,
     "metadata": {},
     "output_type": "execute_result"
    },
    {
     "data": {
      "image/png": "[encoded data removed]",
      "text/plain": [
       "<matplotlib.figure.Figure at 0x13c330f0>"
      ]
     },
     "metadata": {},
     "output_type": "display_data"
    }
   ],
   "source": [
    "%matplotlib inline\n",
    "fig, (ax1, ax2) = plt.subplots(ncols=2, sharey=False, figsize=(15,5))\n",
    "sns.distplot([val.fun for val in opt_res_hellinger_model1.itervalues()], color='r', bins=25, ax=ax1)\n",
    "sns.distplot([val.x[0] for val in opt_res_hellinger_model1.itervalues()], color='r', bins=25, ax=ax2)"
   ]
  },
  {
   "cell_type": "code",
   "execution_count": 26,
   "metadata": {
    "collapsed": false,
    "scrolled": false
   },
   "outputs": [],
   "source": [
    "models_file.close()"
   ]
  }
 ],
 "metadata": {
  "anaconda-cloud": {},
  "kernelspec": {
   "display_name": "Python [conda root]",
   "language": "python",
   "name": "conda-root-py"
  },
  "language_info": {
   "codemirror_mode": {
    "name": "ipython",
    "version": 2
   },
   "file_extension": ".py",
   "mimetype": "text/x-python",
   "name": "python",
   "nbconvert_exporter": "python",
   "pygments_lexer": "ipython2",
   "version": "2.7.12"
  }
 },
 "nbformat": 4,
 "nbformat_minor": 1
}
