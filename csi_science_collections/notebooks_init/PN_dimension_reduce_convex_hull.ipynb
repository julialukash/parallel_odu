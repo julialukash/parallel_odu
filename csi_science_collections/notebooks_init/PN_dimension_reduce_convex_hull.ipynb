{
 "cells": [
  {
   "cell_type": "code",
   "execution_count": 1,
   "metadata": {
    "collapsed": false
   },
   "outputs": [
    {
     "name": "stdout",
     "output_type": "stream",
     "text": [
      "0.8.1\n"
     ]
    }
   ],
   "source": [
    "import sys\n",
    "import numpy as np\n",
    "import artm\n",
    "print artm.version()\n",
    "\n",
    "from os import path, mkdir\n",
    "from datetime import datetime\n",
    "%matplotlib inline\n",
    "sys.path.insert(0, '..\\\\modules\\\\helpers')\n",
    "from plot_helper import PlotMaker\n",
    "from config_helper import ConfigPaths\n",
    "from print_helper import PrintHelper\n",
    "from sklearn.decomposition import PCA\n",
    "from scipy.spatial import ConvexHull"
   ]
  },
  {
   "cell_type": "code",
   "execution_count": 2,
   "metadata": {
    "collapsed": false
   },
   "outputs": [],
   "source": [
    "config = ConfigPaths('config.cfg')\n",
    "plot_maker = PlotMaker()\n",
    "printer = PrintHelper()"
   ]
  },
  {
   "cell_type": "code",
   "execution_count": 3,
   "metadata": {
    "collapsed": false
   },
   "outputs": [
    {
     "name": "stdout",
     "output_type": "stream",
     "text": [
      "Q:\\\\topic_modeling\\\\csi_science_collections.git\\experiments\\UCI_filtered_ngramm_trimmed_without_names\\03_12_comp\\models.txt\n"
     ]
    }
   ],
   "source": [
    "print config.models_file_name"
   ]
  },
  {
   "cell_type": "code",
   "execution_count": 4,
   "metadata": {
    "collapsed": true
   },
   "outputs": [],
   "source": [
    "models_file = open(config.models_file_name, 'a')"
   ]
  },
  {
   "cell_type": "code",
   "execution_count": 5,
   "metadata": {
    "collapsed": true
   },
   "outputs": [],
   "source": [
    "def create_model(current_dictionary, n_topics, n_doc_passes, seed_value, n_top_tokens, p_mass_threshold):    \n",
    "    print '[{}] creating model'.format(datetime.now())\n",
    "    model = artm.ARTM(num_topics=n_topics, dictionary=current_dictionary, cache_theta=True, seed=seed_value, \n",
    "                  class_ids={'ngramm': 1.0, 'author_id': 0.0, 'author': 0.0, \n",
    "                             'post_tag': 0.0, 'projects': 0.0, 'category': 0.0,\n",
    "                             'following_users': 0.0})\n",
    "    model.num_document_passes = n_doc_passes\n",
    "    add_scores_to_model(model, n_top_tokens=n_top_tokens, p_mass_threshold=p_mass_threshold)\n",
    "    return model\n",
    "\n",
    "\n",
    "def add_scores_to_model(artm_model, n_top_tokens, p_mass_threshold):\n",
    "    print '[{}] adding scores'.format(datetime.now())\n",
    "    artm_model.scores.add(artm.PerplexityScore(name='perplexity_score',\n",
    "                                      use_unigram_document_model=False,\n",
    "                                      dictionary=dictionary))\n",
    "    artm_model.scores.add(artm.SparsityPhiScore(name='sparsity_phi_score', class_id='ngramm'))\n",
    "    artm_model.scores.add(artm.SparsityThetaScore(name='sparsity_theta_score'))\n",
    "    artm_model.scores.add(artm.TopicKernelScore(name='topic_kernel_score', class_id='ngramm', \n",
    "                                                probability_mass_threshold=p_mass_threshold))\n",
    "    artm_model.scores.add(artm.TopTokensScore(name='top_tokens_score', class_id='ngramm', num_tokens=n_top_tokens))\n",
    "def fit_one_model(model, _n_iterations, _model_name=''): \n",
    "    print '[{}] fitting'.format(datetime.now())\n",
    "    model.fit_offline(batch_vectorizer=batch_vectorizer, num_collection_passes=_n_iterations)\n",
    "    print '[{}] outputting'.format(datetime.now())\n",
    "    printer.print_artm_model(model, _model_name, _n_iterations, output_file=models_file)\n",
    "    model_pics_file_name =  path.join(config.experiment_path, _model_name)\n",
    "    plot_maker.make_tm_plots(model, model_pics_file_name)\n",
    "    model_output_file_name = path.join(config.experiment_path, _model_name + '.txt')\n",
    "    printer.print_scores(model, _model_name, _n_iterations, model_output_file_name)\n",
    "    printer.print_top_tokens(model, model_output_file_name)\n",
    "    return model"
   ]
  },
  {
   "cell_type": "code",
   "execution_count": 6,
   "metadata": {
    "collapsed": true
   },
   "outputs": [],
   "source": [
    "def save_model(_model, _model_name): \n",
    "    print '[{}] saving model'.format(datetime.now())\n",
    "    model_output_file_name = path.join(config.models_archive_path, _model_name)\n",
    "    _model.save(filename=model_output_file_name+'_saved_p_wt', model_name=_model_name+'p_wt')\n",
    "    _model.save(filename=model_output_file_name+'_saved_n_wt', model_name=_model_name+'n_wt')"
   ]
  },
  {
   "cell_type": "code",
   "execution_count": null,
   "metadata": {
    "collapsed": false
   },
   "outputs": [],
   "source": [
    "batch_vectorizer = artm.BatchVectorizer(data_path=config.dataset_path,\n",
    "                                        data_format='bow_uci',\n",
    "                                        collection_name=config.collection_name,\n",
    "                                        target_folder=config.output_batches_path)\n",
    "dictionary = artm.Dictionary()\n",
    "dictionary.gather(data_path=config.output_batches_path,\n",
    "                  vocab_file_path=config.vocabulary_path)\n",
    "dictionary.save(dictionary_path=config.dictionary_path)\n",
    "dictionary.save_text(dictionary_path=config.dictionary_path + '.txt')\n",
    "dictionary.load_text(dictionary_path=config.dictionary_path + '.txt')"
   ]
  },
  {
   "cell_type": "code",
   "execution_count": 7,
   "metadata": {
    "collapsed": false
   },
   "outputs": [],
   "source": [
    "batch_vectorizer = artm.BatchVectorizer(data_path=config.output_batches_path,\n",
    "                                        data_format='batches')\n",
    "dictionary = artm.Dictionary()\n",
    "dictionary.load(dictionary_path=config.dictionary_path + '.dict')"
   ]
  },
  {
   "cell_type": "code",
   "execution_count": null,
   "metadata": {
    "collapsed": true
   },
   "outputs": [],
   "source": [
    "# dictionary.filter(min_tf=5, max_tf=2000, min_df_rate=0.01, max_df_rate=0.9)"
   ]
  },
  {
   "cell_type": "code",
   "execution_count": 8,
   "metadata": {
    "collapsed": false
   },
   "outputs": [
    {
     "name": "stdout",
     "output_type": "stream",
     "text": [
      "[2016-12-03 23:04:49.610000] creating model\n",
      "[2016-12-03 23:04:50.866000] adding scores\n",
      "[2016-12-03 23:04:50.874000] fitting\n",
      "[2016-12-03 23:05:13.166000] outputting\n",
      "name = model_decor_sparse_t_reg_21, n_topics = 100, n_doc_passes = 5, seed_value = 100, n_iterations = 15, n_top_tokens = 15, p_threshold = 0.25\n",
      "ss_theta_regularizer, tau = -0.01\n",
      "decorrelator_phi_regularizer, tau = 100\n",
      "\n"
     ]
    }
   ],
   "source": [
    "tmp_model = create_model(current_dictionary=dictionary, n_topics=100, n_doc_passes=5, seed_value=100,\n",
    "                         n_top_tokens=15, p_mass_threshold=0.25)\n",
    "tmp_model.regularizers.add(artm.DecorrelatorPhiRegularizer(name='decorrelator_phi_regularizer', class_ids=['ngramm']))\n",
    "tmp_model.regularizers.add(artm.SmoothSparseThetaRegularizer(name='ss_theta_regularizer'))\n",
    "tmp_model.regularizers['decorrelator_phi_regularizer'].tau = 100\n",
    "tmp_model.regularizers['ss_theta_regularizer'].tau = -0.01\n",
    "tmp_model = fit_one_model(tmp_model, _n_iterations=15, _model_name='model_decor_sparse_t_reg_21')\n",
    "model_decor_sparse_t_reg_21 = tmp_model; tmp_model = None"
   ]
  },
  {
   "cell_type": "code",
   "execution_count": 9,
   "metadata": {
    "collapsed": true
   },
   "outputs": [],
   "source": [
    "model = model_decor_sparse_t_reg_21"
   ]
  },
  {
   "cell_type": "code",
   "execution_count": 10,
   "metadata": {
    "collapsed": false
   },
   "outputs": [
    {
     "name": "stdout",
     "output_type": "stream",
     "text": [
      "                           topic_0       topic_1       topic_2       topic_3  \\\n",
      "книги                 0.000000e+00  0.000000e+00  0.000000e+00  0.000000e+00   \n",
      "fuchs                 0.000000e+00  0.000000e+00  0.000000e+00  0.000000e+00   \n",
      "preobrazhensky        0.000000e+00  0.000000e+00  0.000000e+00  0.000000e+00   \n",
      "tabachnikov           0.000000e+00  0.000000e+00  0.000000e+00  0.000000e+00   \n",
      "автограф              6.728774e-14  5.483567e-15  0.000000e+00  1.812173e-09   \n",
      "автор                 4.452065e-04  9.768548e-04  5.983442e-04  1.087942e-02   \n",
      "кейс                  1.459912e-10  8.389613e-08  0.000000e+00  1.225691e-12   \n",
      "математика            1.099461e-08  1.533901e-06  1.458226e-13  8.079139e-04   \n",
      "образование           1.169069e-04  1.658698e-04  1.550982e-03  5.102773e-04   \n",
      "красота               4.338063e-11  1.088937e-13  1.871415e-05  5.865199e-05   \n",
      "книга                 1.224739e-03  3.290065e-04  4.612368e-14  1.705278e-03   \n",
      "университетский_курс  0.000000e+00  0.000000e+00  8.958439e-05  7.227588e-12   \n",
      "дорога                3.648843e-04  7.713884e-11  6.177287e-09  4.846171e-04   \n",
      "проблема              2.975883e-03  1.227699e-03  1.178616e-03  6.057897e-03   \n",
      "задача                1.818579e-03  5.348609e-04  2.341637e-04  3.163244e-03   \n",
      "лекция                9.149765e-05  1.654626e-10  4.229014e-06  2.563328e-04   \n",
      "вопрос                2.669725e-03  4.601853e-03  1.230387e-03  6.813232e-03   \n",
      "экзамен               2.490945e-12  6.854116e-16  0.000000e+00  4.641832e-12   \n",
      "фонд                  5.864537e-04  7.533036e-08  2.290332e-12  5.563644e-04   \n",
      "культура              3.870486e-04  1.109013e-04  7.449155e-05  1.819061e-06   \n",
      "интервью              3.136226e-04  4.131770e-04  9.048835e-08  1.088622e-05   \n",
      "дмитрия               1.664712e-04  1.138189e-12  0.000000e+00  2.699585e-10   \n",
      "полка                 1.363411e-11  2.998159e-11  0.000000e+00  2.972624e-04   \n",
      "замысел               1.524185e-04  5.841527e-11  0.000000e+00  2.136571e-06   \n",
      "америка               1.807750e-04  2.563779e-04  8.772963e-05  5.514226e-09   \n",
      "журнал                1.749576e-05  6.649753e-08  2.029539e-06  6.075960e-02   \n",
      "квант                 0.000000e+00  0.000000e+00  2.740964e-10  2.003939e-14   \n",
      "отдел                 1.919242e-04  7.962063e-05  1.029625e-12  2.101499e-09   \n",
      "конец                 2.600818e-03  2.318422e-04  3.782809e-03  1.455084e-03   \n",
      "работа                4.768404e-02  5.953321e-04  6.732148e-03  2.452267e-02   \n",
      "...                            ...           ...           ...           ...   \n",
      "levkievskaya          0.000000e+00  0.000000e+00  0.000000e+00  0.000000e+00   \n",
      "landsburg             0.000000e+00  0.000000e+00  0.000000e+00  0.000000e+00   \n",
      "frankwilczek          0.000000e+00  0.000000e+00  0.000000e+00  0.000000e+00   \n",
      "kirillov              0.000000e+00  0.000000e+00  0.000000e+00  0.000000e+00   \n",
      "konstantinovky        0.000000e+00  0.000000e+00  0.000000e+00  0.000000e+00   \n",
      "johannisson           0.000000e+00  0.000000e+00  0.000000e+00  0.000000e+00   \n",
      "frith                 0.000000e+00  0.000000e+00  0.000000e+00  0.000000e+00   \n",
      "ryazanov              0.000000e+00  0.000000e+00  0.000000e+00  0.000000e+00   \n",
      "ionov                 0.000000e+00  0.000000e+00  0.000000e+00  0.000000e+00   \n",
      "vlachos               0.000000e+00  0.000000e+00  0.000000e+00  0.000000e+00   \n",
      "gilliham              0.000000e+00  0.000000e+00  0.000000e+00  0.000000e+00   \n",
      "carroll               0.000000e+00  0.000000e+00  0.000000e+00  0.000000e+00   \n",
      "aureli                0.000000e+00  0.000000e+00  0.000000e+00  0.000000e+00   \n",
      "campbell              0.000000e+00  0.000000e+00  0.000000e+00  0.000000e+00   \n",
      "vaiskopf              0.000000e+00  0.000000e+00  0.000000e+00  0.000000e+00   \n",
      "nathov                0.000000e+00  0.000000e+00  0.000000e+00  0.000000e+00   \n",
      "usov                  0.000000e+00  0.000000e+00  0.000000e+00  0.000000e+00   \n",
      "zhizan                0.000000e+00  0.000000e+00  0.000000e+00  0.000000e+00   \n",
      "krasikova             0.000000e+00  0.000000e+00  0.000000e+00  0.000000e+00   \n",
      "urbinati              0.000000e+00  0.000000e+00  0.000000e+00  0.000000e+00   \n",
      "yurchak               0.000000e+00  0.000000e+00  0.000000e+00  0.000000e+00   \n",
      "a_shubin              0.000000e+00  0.000000e+00  0.000000e+00  0.000000e+00   \n",
      "huppert               0.000000e+00  0.000000e+00  0.000000e+00  0.000000e+00   \n",
      "lavrenchuk            0.000000e+00  0.000000e+00  0.000000e+00  0.000000e+00   \n",
      "khrapko               0.000000e+00  0.000000e+00  0.000000e+00  0.000000e+00   \n",
      "sultanov              0.000000e+00  0.000000e+00  0.000000e+00  0.000000e+00   \n",
      "johnson               0.000000e+00  0.000000e+00  0.000000e+00  0.000000e+00   \n",
      "sorokina              0.000000e+00  0.000000e+00  0.000000e+00  0.000000e+00   \n",
      "morozov_o             0.000000e+00  0.000000e+00  0.000000e+00  0.000000e+00   \n",
      "polonsky              0.000000e+00  0.000000e+00  0.000000e+00  0.000000e+00   \n",
      "\n",
      "                           topic_4       topic_5       topic_6       topic_7  \\\n",
      "книги                 0.000000e+00  0.000000e+00  0.000000e+00  0.000000e+00   \n",
      "fuchs                 0.000000e+00  0.000000e+00  0.000000e+00  0.000000e+00   \n",
      "preobrazhensky        0.000000e+00  0.000000e+00  0.000000e+00  0.000000e+00   \n",
      "tabachnikov           0.000000e+00  0.000000e+00  0.000000e+00  0.000000e+00   \n",
      "автограф              1.061412e-11  1.957278e-12  2.099982e-05  6.838824e-10   \n",
      "автор                 4.575191e-06  6.906097e-05  1.033021e-03  2.100802e-04   \n",
      "кейс                  4.806396e-16  0.000000e+00  3.845043e-14  1.161776e-04   \n",
      "математика            1.504707e-07  1.248552e-14  2.595742e-04  7.313630e-05   \n",
      "образование           3.774414e-07  1.449742e-03  2.865666e-07  1.970360e-07   \n",
      "красота               1.327381e-08  1.164979e-04  2.796081e-11  2.551101e-06   \n",
      "книга                 2.462708e-05  1.348729e-05  3.873536e-05  4.414275e-05   \n",
      "университетский_курс  1.281524e-08  0.000000e+00  1.423597e-04  1.502891e-16   \n",
      "дорога                1.891567e-10  4.613229e-04  7.607148e-04  4.759990e-04   \n",
      "проблема              3.342030e-03  1.146604e-03  6.844382e-04  6.422796e-03   \n",
      "задача                1.035722e-03  7.696908e-04  1.127964e-02  2.681757e-03   \n",
      "лекция                3.020900e-10  2.311752e-14  1.626658e-05  3.092690e-06   \n",
      "вопрос                4.934955e-03  1.613942e-03  6.656107e-03  2.325245e-03   \n",
      "экзамен               2.013533e-04  0.000000e+00  2.349290e-08  7.951529e-14   \n",
      "фонд                  2.508391e-11  6.099950e-07  8.925450e-09  1.356315e-03   \n",
      "культура              1.223055e-02  1.468058e-04  1.614487e-04  1.248918e-09   \n",
      "интервью              2.286881e-04  3.207441e-04  1.913461e-04  1.085109e-04   \n",
      "дмитрия               0.000000e+00  0.000000e+00  2.155766e-12  0.000000e+00   \n",
      "полка                 1.014364e-14  0.000000e+00  1.483461e-11  7.329549e-05   \n",
      "замысел               7.214727e-05  3.304410e-04  4.340066e-08  7.605129e-11   \n",
      "америка               2.051609e-04  3.821133e-14  1.032709e-09  1.830341e-03   \n",
      "журнал                5.866421e-08  4.578437e-09  7.103088e-07  1.007540e-06   \n",
      "квант                 0.000000e+00  0.000000e+00  0.000000e+00  3.729088e-15   \n",
      "отдел                 4.121192e-04  2.015772e-04  1.036810e-09  2.149568e-05   \n",
      "конец                 1.486198e-03  1.229017e-04  1.638383e-03  8.843040e-04   \n",
      "работа                2.210889e-06  2.038184e-03  3.043690e-03  3.557036e-03   \n",
      "...                            ...           ...           ...           ...   \n",
      "levkievskaya          0.000000e+00  0.000000e+00  0.000000e+00  0.000000e+00   \n",
      "landsburg             0.000000e+00  0.000000e+00  0.000000e+00  0.000000e+00   \n",
      "frankwilczek          0.000000e+00  0.000000e+00  0.000000e+00  0.000000e+00   \n",
      "kirillov              0.000000e+00  0.000000e+00  0.000000e+00  0.000000e+00   \n",
      "konstantinovky        0.000000e+00  0.000000e+00  0.000000e+00  0.000000e+00   \n",
      "johannisson           0.000000e+00  0.000000e+00  0.000000e+00  0.000000e+00   \n",
      "frith                 0.000000e+00  0.000000e+00  0.000000e+00  0.000000e+00   \n",
      "ryazanov              0.000000e+00  0.000000e+00  0.000000e+00  0.000000e+00   \n",
      "ionov                 0.000000e+00  0.000000e+00  0.000000e+00  0.000000e+00   \n",
      "vlachos               0.000000e+00  0.000000e+00  0.000000e+00  0.000000e+00   \n",
      "gilliham              0.000000e+00  0.000000e+00  0.000000e+00  0.000000e+00   \n",
      "carroll               0.000000e+00  0.000000e+00  0.000000e+00  0.000000e+00   \n",
      "aureli                0.000000e+00  0.000000e+00  0.000000e+00  0.000000e+00   \n",
      "campbell              0.000000e+00  0.000000e+00  0.000000e+00  0.000000e+00   \n",
      "vaiskopf              0.000000e+00  0.000000e+00  0.000000e+00  0.000000e+00   \n",
      "nathov                0.000000e+00  0.000000e+00  0.000000e+00  0.000000e+00   \n",
      "usov                  0.000000e+00  0.000000e+00  0.000000e+00  0.000000e+00   \n",
      "zhizan                0.000000e+00  0.000000e+00  0.000000e+00  0.000000e+00   \n",
      "krasikova             0.000000e+00  0.000000e+00  0.000000e+00  0.000000e+00   \n",
      "urbinati              0.000000e+00  0.000000e+00  0.000000e+00  0.000000e+00   \n",
      "yurchak               0.000000e+00  0.000000e+00  0.000000e+00  0.000000e+00   \n",
      "a_shubin              0.000000e+00  0.000000e+00  0.000000e+00  0.000000e+00   \n",
      "huppert               0.000000e+00  0.000000e+00  0.000000e+00  0.000000e+00   \n",
      "lavrenchuk            0.000000e+00  0.000000e+00  0.000000e+00  0.000000e+00   \n",
      "khrapko               0.000000e+00  0.000000e+00  0.000000e+00  0.000000e+00   \n",
      "sultanov              0.000000e+00  0.000000e+00  0.000000e+00  0.000000e+00   \n",
      "johnson               0.000000e+00  0.000000e+00  0.000000e+00  0.000000e+00   \n",
      "sorokina              0.000000e+00  0.000000e+00  0.000000e+00  0.000000e+00   \n",
      "morozov_o             0.000000e+00  0.000000e+00  0.000000e+00  0.000000e+00   \n",
      "polonsky              0.000000e+00  0.000000e+00  0.000000e+00  0.000000e+00   \n",
      "\n",
      "                           topic_8       topic_9      ...           topic_90  \\\n",
      "книги                 0.000000e+00  0.000000e+00      ...       0.000000e+00   \n",
      "fuchs                 0.000000e+00  0.000000e+00      ...       0.000000e+00   \n",
      "preobrazhensky        0.000000e+00  0.000000e+00      ...       0.000000e+00   \n",
      "tabachnikov           0.000000e+00  0.000000e+00      ...       0.000000e+00   \n",
      "автограф              3.865453e-16  1.349154e-04      ...       1.658567e-12   \n",
      "автор                 5.014437e-04  2.310434e-04      ...       1.928179e-04   \n",
      "кейс                  1.245630e-06  3.883259e-12      ...       9.186481e-07   \n",
      "математика            1.336341e-04  1.346789e-05      ...       3.823945e-02   \n",
      "образование           5.690802e-04  3.730994e-05      ...       3.862828e-06   \n",
      "красота               9.953544e-05  1.462659e-09      ...       3.742043e-03   \n",
      "книга                 1.659197e-04  6.455278e-04      ...       2.257723e-03   \n",
      "университетский_курс  0.000000e+00  4.284634e-15      ...       1.688332e-07   \n",
      "дорога                7.325697e-08  9.344178e-10      ...       5.111901e-04   \n",
      "проблема              1.861925e-03  9.401083e-04      ...       6.054271e-06   \n",
      "задача                1.710255e-03  2.017356e-04      ...       1.294624e-03   \n",
      "лекция                3.061728e-10  2.097481e-05      ...       9.792226e-05   \n",
      "вопрос                2.865886e-03  3.442915e-03      ...       4.597155e-03   \n",
      "экзамен               2.591728e-07  4.673427e-16      ...       1.834619e-11   \n",
      "фонд                  1.089885e-04  8.477225e-06      ...       6.497023e-07   \n",
      "культура              5.512911e-07  1.564086e-03      ...       2.462126e-07   \n",
      "интервью              9.255580e-04  5.078067e-04      ...       1.124582e-09   \n",
      "дмитрия               4.285132e-06  2.594823e-04      ...       2.492472e-07   \n",
      "полка                 1.182054e-05  5.095913e-12      ...       4.604620e-04   \n",
      "замысел               2.965155e-12  5.974203e-12      ...       5.563300e-06   \n",
      "америка               3.094189e-07  1.430316e-05      ...       2.652746e-07   \n",
      "журнал                2.962882e-04  4.357412e-08      ...       8.868238e-10   \n",
      "квант                 1.109179e-04  8.663198e-15      ...       9.370907e-04   \n",
      "отдел                 2.552226e-06  4.936887e-12      ...       6.213696e-06   \n",
      "конец                 9.431064e-08  1.838185e-03      ...       4.271397e-04   \n",
      "работа                3.563986e-03  1.848976e-03      ...       5.400513e-04   \n",
      "...                            ...           ...      ...                ...   \n",
      "levkievskaya          0.000000e+00  0.000000e+00      ...       0.000000e+00   \n",
      "landsburg             0.000000e+00  0.000000e+00      ...       0.000000e+00   \n",
      "frankwilczek          0.000000e+00  0.000000e+00      ...       0.000000e+00   \n",
      "kirillov              0.000000e+00  0.000000e+00      ...       0.000000e+00   \n",
      "konstantinovky        0.000000e+00  0.000000e+00      ...       0.000000e+00   \n",
      "johannisson           0.000000e+00  0.000000e+00      ...       0.000000e+00   \n",
      "frith                 0.000000e+00  0.000000e+00      ...       0.000000e+00   \n",
      "ryazanov              0.000000e+00  0.000000e+00      ...       0.000000e+00   \n",
      "ionov                 0.000000e+00  0.000000e+00      ...       0.000000e+00   \n",
      "vlachos               0.000000e+00  0.000000e+00      ...       0.000000e+00   \n",
      "gilliham              0.000000e+00  0.000000e+00      ...       0.000000e+00   \n",
      "carroll               0.000000e+00  0.000000e+00      ...       0.000000e+00   \n",
      "aureli                0.000000e+00  0.000000e+00      ...       0.000000e+00   \n",
      "campbell              0.000000e+00  0.000000e+00      ...       0.000000e+00   \n",
      "vaiskopf              0.000000e+00  0.000000e+00      ...       0.000000e+00   \n",
      "nathov                0.000000e+00  0.000000e+00      ...       0.000000e+00   \n",
      "usov                  0.000000e+00  0.000000e+00      ...       0.000000e+00   \n",
      "zhizan                0.000000e+00  0.000000e+00      ...       0.000000e+00   \n",
      "krasikova             0.000000e+00  0.000000e+00      ...       0.000000e+00   \n",
      "urbinati              0.000000e+00  0.000000e+00      ...       0.000000e+00   \n",
      "yurchak               0.000000e+00  0.000000e+00      ...       0.000000e+00   \n",
      "a_shubin              0.000000e+00  0.000000e+00      ...       0.000000e+00   \n",
      "huppert               0.000000e+00  0.000000e+00      ...       0.000000e+00   \n",
      "lavrenchuk            0.000000e+00  0.000000e+00      ...       0.000000e+00   \n",
      "khrapko               0.000000e+00  0.000000e+00      ...       0.000000e+00   \n",
      "sultanov              0.000000e+00  0.000000e+00      ...       0.000000e+00   \n",
      "johnson               0.000000e+00  0.000000e+00      ...       0.000000e+00   \n",
      "sorokina              0.000000e+00  0.000000e+00      ...       0.000000e+00   \n",
      "morozov_o             0.000000e+00  0.000000e+00      ...       0.000000e+00   \n",
      "polonsky              0.000000e+00  0.000000e+00      ...       0.000000e+00   \n",
      "\n",
      "                          topic_91      topic_92      topic_93      topic_94  \\\n",
      "книги                 0.000000e+00  0.000000e+00  0.000000e+00  0.000000e+00   \n",
      "fuchs                 0.000000e+00  0.000000e+00  0.000000e+00  0.000000e+00   \n",
      "preobrazhensky        0.000000e+00  0.000000e+00  0.000000e+00  0.000000e+00   \n",
      "tabachnikov           0.000000e+00  0.000000e+00  0.000000e+00  0.000000e+00   \n",
      "автограф              7.165593e-09  6.050065e-14  2.939416e-12  2.147187e-04   \n",
      "автор                 1.169508e-03  2.627017e-03  2.010501e-04  3.319230e-03   \n",
      "кейс                  6.120598e-14  3.101284e-04  0.000000e+00  1.206928e-04   \n",
      "математика            8.432327e-06  1.735877e-08  1.837503e-08  1.660004e-08   \n",
      "образование           3.923075e-04  1.098830e-11  4.091929e-04  1.120912e-13   \n",
      "красота               2.960789e-04  4.456403e-04  3.067583e-12  9.139553e-04   \n",
      "книга                 1.329849e-03  2.773052e-05  2.253480e-03  1.455665e-03   \n",
      "университетский_курс  0.000000e+00  0.000000e+00  0.000000e+00  0.000000e+00   \n",
      "дорога                1.414752e-04  1.162524e-04  5.208444e-05  1.328403e-04   \n",
      "проблема              9.635665e-04  2.011240e-03  3.270669e-03  1.226170e-03   \n",
      "задача                7.033326e-07  8.488518e-05  1.743696e-04  4.945565e-04   \n",
      "лекция                1.383544e-09  8.081451e-05  7.568847e-12  1.737734e-07   \n",
      "вопрос                2.524134e-03  4.671499e-03  2.545211e-03  2.500168e-03   \n",
      "экзамен               1.927091e-05  6.020426e-13  5.600412e-08  5.302506e-12   \n",
      "фонд                  6.759703e-10  2.269469e-12  1.400571e-04  2.692443e-07   \n",
      "культура              3.828745e-03  1.868868e-03  4.356528e-06  2.089429e-03   \n",
      "интервью              6.546002e-07  6.298509e-08  8.443108e-11  1.545452e-07   \n",
      "дмитрия               1.581076e-15  1.697550e-04  0.000000e+00  1.065195e-16   \n",
      "полка                 1.210581e-13  2.396104e-11  2.955158e-14  2.323182e-11   \n",
      "замысел               1.305524e-09  6.966304e-11  1.612509e-11  3.304757e-04   \n",
      "америка               1.487257e-11  7.948056e-04  4.557459e-06  1.504983e-04   \n",
      "журнал                4.048816e-07  2.204698e-03  1.619516e-07  2.781377e-06   \n",
      "квант                 0.000000e+00  0.000000e+00  0.000000e+00  1.058987e-15   \n",
      "отдел                 9.666415e-04  1.561171e-04  7.760675e-05  8.837365e-14   \n",
      "конец                 9.153589e-04  3.799838e-03  2.524365e-03  1.309461e-03   \n",
      "работа                4.579877e-03  2.055975e-03  3.313716e-04  5.244332e-03   \n",
      "...                            ...           ...           ...           ...   \n",
      "levkievskaya          0.000000e+00  0.000000e+00  0.000000e+00  0.000000e+00   \n",
      "landsburg             0.000000e+00  0.000000e+00  0.000000e+00  0.000000e+00   \n",
      "frankwilczek          0.000000e+00  0.000000e+00  0.000000e+00  0.000000e+00   \n",
      "kirillov              0.000000e+00  0.000000e+00  0.000000e+00  0.000000e+00   \n",
      "konstantinovky        0.000000e+00  0.000000e+00  0.000000e+00  0.000000e+00   \n",
      "johannisson           0.000000e+00  0.000000e+00  0.000000e+00  0.000000e+00   \n",
      "frith                 0.000000e+00  0.000000e+00  0.000000e+00  0.000000e+00   \n",
      "ryazanov              0.000000e+00  0.000000e+00  0.000000e+00  0.000000e+00   \n",
      "ionov                 0.000000e+00  0.000000e+00  0.000000e+00  0.000000e+00   \n",
      "vlachos               0.000000e+00  0.000000e+00  0.000000e+00  0.000000e+00   \n",
      "gilliham              0.000000e+00  0.000000e+00  0.000000e+00  0.000000e+00   \n",
      "carroll               0.000000e+00  0.000000e+00  0.000000e+00  0.000000e+00   \n",
      "aureli                0.000000e+00  0.000000e+00  0.000000e+00  0.000000e+00   \n",
      "campbell              0.000000e+00  0.000000e+00  0.000000e+00  0.000000e+00   \n",
      "vaiskopf              0.000000e+00  0.000000e+00  0.000000e+00  0.000000e+00   \n",
      "nathov                0.000000e+00  0.000000e+00  0.000000e+00  0.000000e+00   \n",
      "usov                  0.000000e+00  0.000000e+00  0.000000e+00  0.000000e+00   \n",
      "zhizan                0.000000e+00  0.000000e+00  0.000000e+00  0.000000e+00   \n",
      "krasikova             0.000000e+00  0.000000e+00  0.000000e+00  0.000000e+00   \n",
      "urbinati              0.000000e+00  0.000000e+00  0.000000e+00  0.000000e+00   \n",
      "yurchak               0.000000e+00  0.000000e+00  0.000000e+00  0.000000e+00   \n",
      "a_shubin              0.000000e+00  0.000000e+00  0.000000e+00  0.000000e+00   \n",
      "huppert               0.000000e+00  0.000000e+00  0.000000e+00  0.000000e+00   \n",
      "lavrenchuk            0.000000e+00  0.000000e+00  0.000000e+00  0.000000e+00   \n",
      "khrapko               0.000000e+00  0.000000e+00  0.000000e+00  0.000000e+00   \n",
      "sultanov              0.000000e+00  0.000000e+00  0.000000e+00  0.000000e+00   \n",
      "johnson               0.000000e+00  0.000000e+00  0.000000e+00  0.000000e+00   \n",
      "sorokina              0.000000e+00  0.000000e+00  0.000000e+00  0.000000e+00   \n",
      "morozov_o             0.000000e+00  0.000000e+00  0.000000e+00  0.000000e+00   \n",
      "polonsky              0.000000e+00  0.000000e+00  0.000000e+00  0.000000e+00   \n",
      "\n",
      "                          topic_95      topic_96      topic_97      topic_98  \\\n",
      "книги                 0.000000e+00  0.000000e+00  0.000000e+00  0.000000e+00   \n",
      "fuchs                 0.000000e+00  0.000000e+00  0.000000e+00  0.000000e+00   \n",
      "preobrazhensky        0.000000e+00  0.000000e+00  0.000000e+00  0.000000e+00   \n",
      "tabachnikov           0.000000e+00  0.000000e+00  0.000000e+00  0.000000e+00   \n",
      "автограф              0.000000e+00  1.193505e-11  1.032288e-08  9.745072e-08   \n",
      "автор                 3.866707e-04  7.038144e-04  1.884696e-04  1.277449e-02   \n",
      "кейс                  0.000000e+00  6.037156e-15  4.242010e-11  6.231178e-04   \n",
      "математика            3.587233e-11  6.089695e-14  2.760324e-04  6.434850e-10   \n",
      "образование           2.295688e-03  5.483626e-04  1.355268e-07  1.496886e-11   \n",
      "красота               8.811504e-11  7.405734e-04  1.968938e-04  3.037063e-04   \n",
      "книга                 3.052049e-11  1.945849e-03  4.312019e-04  1.067501e-02   \n",
      "университетский_курс  0.000000e+00  4.861615e-16  0.000000e+00  0.000000e+00   \n",
      "дорога                3.401079e-04  4.439852e-04  1.548912e-04  2.262498e-04   \n",
      "проблема              2.005888e-03  1.591736e-03  1.327801e-03  3.623120e-03   \n",
      "задача                7.855688e-05  1.113290e-04  5.723862e-04  1.872534e-04   \n",
      "лекция                7.211300e-07  8.044249e-04  1.251696e-05  1.046706e-09   \n",
      "вопрос                1.275249e-03  9.106128e-04  5.459705e-03  2.221381e-03   \n",
      "экзамен               8.169474e-12  1.873020e-04  0.000000e+00  0.000000e+00   \n",
      "фонд                  5.388462e-08  7.592856e-04  2.308593e-09  2.715598e-11   \n",
      "культура              3.577913e-04  9.210684e-04  1.656047e-03  2.358104e-03   \n",
      "интервью              1.091376e-06  8.841862e-07  1.695447e-06  2.417298e-04   \n",
      "дмитрия               0.000000e+00  3.803950e-14  2.034812e-12  1.195166e-12   \n",
      "полка                 0.000000e+00  2.547675e-04  5.383946e-14  2.018225e-11   \n",
      "замысел               4.092709e-14  6.777880e-04  3.794467e-09  1.006225e-12   \n",
      "америка               1.492311e-07  1.445540e-05  3.026489e-07  8.495001e-04   \n",
      "журнал                1.388550e-06  7.369278e-04  2.784083e-06  7.547775e-04   \n",
      "квант                 0.000000e+00  1.480001e-16  1.690075e-07  0.000000e+00   \n",
      "отдел                 3.302100e-08  1.782112e-05  6.576060e-07  7.042127e-12   \n",
      "конец                 6.734480e-04  2.139578e-03  3.476748e-05  2.467877e-03   \n",
      "работа                5.099849e-03  3.021466e-04  8.312677e-03  4.094262e-03   \n",
      "...                            ...           ...           ...           ...   \n",
      "levkievskaya          0.000000e+00  0.000000e+00  0.000000e+00  0.000000e+00   \n",
      "landsburg             0.000000e+00  0.000000e+00  0.000000e+00  0.000000e+00   \n",
      "frankwilczek          0.000000e+00  0.000000e+00  0.000000e+00  0.000000e+00   \n",
      "kirillov              0.000000e+00  0.000000e+00  0.000000e+00  0.000000e+00   \n",
      "konstantinovky        0.000000e+00  0.000000e+00  0.000000e+00  0.000000e+00   \n",
      "johannisson           0.000000e+00  0.000000e+00  0.000000e+00  0.000000e+00   \n",
      "frith                 0.000000e+00  0.000000e+00  0.000000e+00  0.000000e+00   \n",
      "ryazanov              0.000000e+00  0.000000e+00  0.000000e+00  0.000000e+00   \n",
      "ionov                 0.000000e+00  0.000000e+00  0.000000e+00  0.000000e+00   \n",
      "vlachos               0.000000e+00  0.000000e+00  0.000000e+00  0.000000e+00   \n",
      "gilliham              0.000000e+00  0.000000e+00  0.000000e+00  0.000000e+00   \n",
      "carroll               0.000000e+00  0.000000e+00  0.000000e+00  0.000000e+00   \n",
      "aureli                0.000000e+00  0.000000e+00  0.000000e+00  0.000000e+00   \n",
      "campbell              0.000000e+00  0.000000e+00  0.000000e+00  0.000000e+00   \n",
      "vaiskopf              0.000000e+00  0.000000e+00  0.000000e+00  0.000000e+00   \n",
      "nathov                0.000000e+00  0.000000e+00  0.000000e+00  0.000000e+00   \n",
      "usov                  0.000000e+00  0.000000e+00  0.000000e+00  0.000000e+00   \n",
      "zhizan                0.000000e+00  0.000000e+00  0.000000e+00  0.000000e+00   \n",
      "krasikova             0.000000e+00  0.000000e+00  0.000000e+00  0.000000e+00   \n",
      "urbinati              0.000000e+00  0.000000e+00  0.000000e+00  0.000000e+00   \n",
      "yurchak               0.000000e+00  0.000000e+00  0.000000e+00  0.000000e+00   \n",
      "a_shubin              0.000000e+00  0.000000e+00  0.000000e+00  0.000000e+00   \n",
      "huppert               0.000000e+00  0.000000e+00  0.000000e+00  0.000000e+00   \n",
      "lavrenchuk            0.000000e+00  0.000000e+00  0.000000e+00  0.000000e+00   \n",
      "khrapko               0.000000e+00  0.000000e+00  0.000000e+00  0.000000e+00   \n",
      "sultanov              0.000000e+00  0.000000e+00  0.000000e+00  0.000000e+00   \n",
      "johnson               0.000000e+00  0.000000e+00  0.000000e+00  0.000000e+00   \n",
      "sorokina              0.000000e+00  0.000000e+00  0.000000e+00  0.000000e+00   \n",
      "morozov_o             0.000000e+00  0.000000e+00  0.000000e+00  0.000000e+00   \n",
      "polonsky              0.000000e+00  0.000000e+00  0.000000e+00  0.000000e+00   \n",
      "\n",
      "                          topic_99  \n",
      "книги                 0.000000e+00  \n",
      "fuchs                 0.000000e+00  \n",
      "preobrazhensky        0.000000e+00  \n",
      "tabachnikov           0.000000e+00  \n",
      "автограф              4.595814e-09  \n",
      "автор                 6.127624e-03  \n",
      "кейс                  3.795370e-14  \n",
      "математика            3.919966e-06  \n",
      "образование           1.421545e-05  \n",
      "красота               6.294782e-09  \n",
      "книга                 1.836202e-04  \n",
      "университетский_курс  0.000000e+00  \n",
      "дорога                2.335819e-04  \n",
      "проблема              3.861365e-03  \n",
      "задача                8.610120e-04  \n",
      "лекция                7.085517e-08  \n",
      "вопрос                4.470880e-03  \n",
      "экзамен               2.804617e-12  \n",
      "фонд                  3.423792e-11  \n",
      "культура              1.671306e-03  \n",
      "интервью              2.237316e-04  \n",
      "дмитрия               7.516843e-14  \n",
      "полка                 2.633809e-06  \n",
      "замысел               4.995780e-04  \n",
      "америка               3.160410e-10  \n",
      "журнал                1.339397e-04  \n",
      "квант                 1.816434e-13  \n",
      "отдел                 1.512963e-06  \n",
      "конец                 3.331193e-03  \n",
      "работа                1.133361e-03  \n",
      "...                            ...  \n",
      "levkievskaya          0.000000e+00  \n",
      "landsburg             0.000000e+00  \n",
      "frankwilczek          0.000000e+00  \n",
      "kirillov              0.000000e+00  \n",
      "konstantinovky        0.000000e+00  \n",
      "johannisson           0.000000e+00  \n",
      "frith                 0.000000e+00  \n",
      "ryazanov              0.000000e+00  \n",
      "ionov                 0.000000e+00  \n",
      "vlachos               0.000000e+00  \n",
      "gilliham              0.000000e+00  \n",
      "carroll               0.000000e+00  \n",
      "aureli                0.000000e+00  \n",
      "campbell              0.000000e+00  \n",
      "vaiskopf              0.000000e+00  \n",
      "nathov                0.000000e+00  \n",
      "usov                  0.000000e+00  \n",
      "zhizan                0.000000e+00  \n",
      "krasikova             0.000000e+00  \n",
      "urbinati              0.000000e+00  \n",
      "yurchak               0.000000e+00  \n",
      "a_shubin              0.000000e+00  \n",
      "huppert               0.000000e+00  \n",
      "lavrenchuk            0.000000e+00  \n",
      "khrapko               0.000000e+00  \n",
      "sultanov              0.000000e+00  \n",
      "johnson               0.000000e+00  \n",
      "sorokina              0.000000e+00  \n",
      "morozov_o             0.000000e+00  \n",
      "polonsky              0.000000e+00  \n",
      "\n",
      "[19321 rows x 100 columns]\n"
     ]
    }
   ],
   "source": [
    "phi = model.get_phi()\n",
    "phi_t = phi.transpose()\n",
    "print(phi)"
   ]
  },
  {
   "cell_type": "code",
   "execution_count": 11,
   "metadata": {
    "collapsed": false
   },
   "outputs": [
    {
     "data": {
      "text/plain": [
       "3947"
      ]
     },
     "execution_count": 11,
     "metadata": {},
     "output_type": "execute_result"
    }
   ],
   "source": [
    "from sklearn.random_projection import johnson_lindenstrauss_min_dim\n",
    "johnson_lindenstrauss_min_dim(n_samples=100, eps=0.1)"
   ]
  },
  {
   "cell_type": "code",
   "execution_count": null,
   "metadata": {
    "collapsed": false
   },
   "outputs": [],
   "source": [
    "points = phi_t\n",
    "print '[{}] PCA fitting started '.format(datetime.now())\n",
    "model = PCA(n_components=20).fit(points)\n",
    "print '[{}] PCA fitting finished '.format(datetime.now())\n",
    "proj_vertices = model.transform(points)\n",
    "print '[{}] PCA transforming finished '.format(datetime.now())\n",
    "# hull_kinda = ConvexHull(proj_vertices)\n",
    "# print '[{}] ConvexHull finished '.format(datetime.now())"
   ]
  },
  {
   "cell_type": "code",
   "execution_count": null,
   "metadata": {
    "collapsed": false
   },
   "outputs": [],
   "source": [
    "proj_vertices.shape"
   ]
  },
  {
   "cell_type": "code",
   "execution_count": null,
   "metadata": {
    "collapsed": false
   },
   "outputs": [],
   "source": [
    "hull = ConvexHull(proj_vertices)\n",
    "# print hull.vertices"
   ]
  },
  {
   "cell_type": "code",
   "execution_count": null,
   "metadata": {
    "collapsed": false
   },
   "outputs": [],
   "source": [
    "hull = ConvexHull(phi)\n",
    "simplices = hull.simplices\n",
    "vertices = hull.vertices"
   ]
  },
  {
   "cell_type": "code",
   "execution_count": null,
   "metadata": {
    "collapsed": true
   },
   "outputs": [],
   "source": [
    "hull[simplices, :]"
   ]
  },
  {
   "cell_type": "code",
   "execution_count": null,
   "metadata": {
    "collapsed": true
   },
   "outputs": [],
   "source": [
    "models_file.close()"
   ]
  }
 ],
 "metadata": {
  "anaconda-cloud": {},
  "kernelspec": {
   "display_name": "Python [conda root]",
   "language": "python",
   "name": "conda-root-py"
  },
  "language_info": {
   "codemirror_mode": {
    "name": "ipython",
    "version": 2
   },
   "file_extension": ".py",
   "mimetype": "text/x-python",
   "name": "python",
   "nbconvert_exporter": "python",
   "pygments_lexer": "ipython2",
   "version": "2.7.12"
  }
 },
 "nbformat": 4,
 "nbformat_minor": 1
}
