{
 "cells": [
  {
   "cell_type": "code",
   "execution_count": 1,
   "metadata": {
    "collapsed": false
   },
   "outputs": [
    {
     "name": "stdout",
     "output_type": "stream",
     "text": [
      "0.8.1\n"
     ]
    }
   ],
   "source": [
    "import pickle\n",
    "import sys\n",
    "import numpy as np\n",
    "import pandas as pd\n",
    "import artm\n",
    "import seaborn as sns\n",
    "print artm.version()\n",
    "\n",
    "from os import path, mkdir\n",
    "from datetime import datetime\n",
    "sys.path.insert(0, '..\\\\modules\\\\helpers')\n",
    "from plot_helper import PlotMaker\n",
    "from config_helper import ConfigPaths\n",
    "from print_helper import PrintHelper\n",
    "from sklearn.decomposition import PCA\n",
    "from scipy.spatial import ConvexHull\n",
    "from scipy.optimize import minimize\n",
    "from sklearn.metrics.pairwise import cosine_distances\n",
    "from numpy.linalg import norm as euclidean_norm\n",
    "\n",
    "%matplotlib inline"
   ]
  },
  {
   "cell_type": "code",
   "execution_count": 2,
   "metadata": {
    "collapsed": false
   },
   "outputs": [],
   "source": [
    "config = ConfigPaths('config_sample.cfg')\n",
    "plot_maker = PlotMaker()\n",
    "printer = PrintHelper()"
   ]
  },
  {
   "cell_type": "code",
   "execution_count": 3,
   "metadata": {
    "collapsed": false
   },
   "outputs": [
    {
     "name": "stdout",
     "output_type": "stream",
     "text": [
      "Q:\\\\topic_modeling\\\\csi_science_collections.git\\experiments\\sample_model2\\np_10_12_20_sampel_1\\models.txt\n",
      "Q:\\\\topic_modeling\\\\csi_science_collections.git\\..\\data\\postnauka\\UCI_collections\\sample_model2\n"
     ]
    }
   ],
   "source": [
    "print config.models_file_name\n",
    "print config.dataset_path"
   ]
  },
  {
   "cell_type": "code",
   "execution_count": 4,
   "metadata": {
    "collapsed": true
   },
   "outputs": [],
   "source": [
    "models_file = open(config.models_file_name, 'a')"
   ]
  },
  {
   "cell_type": "code",
   "execution_count": 82,
   "metadata": {
    "collapsed": true
   },
   "outputs": [],
   "source": [
    "def create_model(current_dictionary, n_topics, n_doc_passes, seed_value, n_top_tokens, p_mass_threshold):    \n",
    "    print '[{}] creating model'.format(datetime.now())\n",
    "    model = artm.ARTM(num_topics=n_topics, dictionary=current_dictionary, cache_theta=True, seed=seed_value, \n",
    "                  class_ids={'@default_class': 1.0})\n",
    "    model.num_document_passes = n_doc_passes\n",
    "    add_scores_to_model(model, n_top_tokens=n_top_tokens, p_mass_threshold=p_mass_threshold)\n",
    "    return model\n",
    "\n",
    "\n",
    "def add_scores_to_model(artm_model, n_top_tokens, p_mass_threshold):\n",
    "    print '[{}] adding scores'.format(datetime.now())\n",
    "    artm_model.scores.add(artm.PerplexityScore(name='perplexity_score',\n",
    "                                      use_unigram_document_model=False,\n",
    "                                      dictionary=dictionary))\n",
    "    artm_model.scores.add(artm.SparsityPhiScore(name='sparsity_phi_score', class_id='@default_class'))\n",
    "    artm_model.scores.add(artm.SparsityThetaScore(name='sparsity_theta_score'))\n",
    "    artm_model.scores.add(artm.TopicKernelScore(name='topic_kernel_score', class_id='@default_class', \n",
    "                                                probability_mass_threshold=p_mass_threshold))\n",
    "    artm_model.scores.add(artm.TopTokensScore(name='top_tokens_score', class_id='@default_class', num_tokens=n_top_tokens))\n",
    "def fit_one_model(model, _n_iterations, _model_name=''): \n",
    "    print '[{}] fitting'.format(datetime.now())\n",
    "    model.fit_offline(batch_vectorizer=batch_vectorizer, num_collection_passes=_n_iterations)\n",
    "    print '[{}] outputting'.format(datetime.now())\n",
    "    printer.print_artm_model(model, _model_name, _n_iterations, output_file=models_file)\n",
    "    model_pics_file_name =  path.join(config.experiment_path, _model_name)\n",
    "    plot_maker.make_tm_plots(model, model_pics_file_name)\n",
    "    model_output_file_name = path.join(config.experiment_path, _model_name + '.txt')\n",
    "    printer.print_scores(model, _model_name, _n_iterations, model_output_file_name)\n",
    "    printer.print_top_tokens(model, model_output_file_name)\n",
    "    return model\n",
    "def save_pickle_file(dists, filename):\n",
    "    pickle_filename = path.join(config.experiment_path, filename)\n",
    "    pickle_file = open(pickle_filename, 'wb')\n",
    "    pickle.dump(dists, pickle_file)\n",
    "    pickle_file.close()\n",
    "def load_pickle_file(filename):\n",
    "    pickle_filename = path.join(config.experiment_path, filename)\n",
    "    pickle_file = open(pickle_filename, 'rb')\n",
    "    p_file = pickle.load(pickle_file)\n",
    "    pickle_file.close()\n",
    "    return p_file"
   ]
  },
  {
   "cell_type": "code",
   "execution_count": 15,
   "metadata": {
    "collapsed": false
   },
   "outputs": [
    {
     "name": "stdout",
     "output_type": "stream",
     "text": [
      "Q:\\topic_modeling\\csi_science_collections.git\\..\\data\\postnauka\\UCI_collections\\sample_model2\\pn.vw\n"
     ]
    }
   ],
   "source": [
    "config.dataset_path = 'Q:\\\\topic_modeling\\\\csi_science_collections.git\\..\\data\\postnauka\\UCI_collections\\sample_model2'\n",
    "config.dataset_path  = path.join(config.dataset_path, 'pn.vw')\n",
    "print config.dataset_path"
   ]
  },
  {
   "cell_type": "code",
   "execution_count": 78,
   "metadata": {
    "collapsed": false
   },
   "outputs": [],
   "source": [
    "batch_vectorizer = artm.BatchVectorizer(data_path=config.dataset_path,\n",
    "                                        data_format='vowpal_wabbit',\n",
    "                                        collection_name=config.collection_name,\n",
    "                                        target_folder=config.output_batches_path)\n",
    "dictionary = artm.Dictionary()\n",
    "dictionary.gather(data_path=config.output_batches_path)\n",
    "dictionary.save(dictionary_path=config.dictionary_path)\n",
    "dictionary.save_text(dictionary_path=config.dictionary_path + '.txt')\n",
    "dictionary.load_text(dictionary_path=config.dictionary_path + '.txt')"
   ]
  },
  {
   "cell_type": "code",
   "execution_count": 102,
   "metadata": {
    "collapsed": false
   },
   "outputs": [
    {
     "name": "stdout",
     "output_type": "stream",
     "text": [
      "автограф\n"
     ]
    }
   ],
   "source": [
    "vocabulary = {idx : name for idx, name in enumerate(nw_hull.index)}\n",
    "print vocabulary.values()[0]"
   ]
  },
  {
   "cell_type": "code",
   "execution_count": 109,
   "metadata": {
    "collapsed": false
   },
   "outputs": [],
   "source": [
    "batch_vectorizer = artm.BatchVectorizer(data_format='bow_n_wd', n_wd=np.array(nw_hull.values, dtype=float),\n",
    "                                        target_folder=config.output_batches_path,\n",
    "                                        vocabulary=vocabulary)\n",
    "dictionary = artm.Dictionary()\n",
    "dictionary.gather(data_path=config.output_batches_path)\n",
    "dictionary.save(dictionary_path=config.dictionary_path)\n",
    "dictionary.save_text(dictionary_path=config.dictionary_path + '.txt')\n",
    "dictionary.load_text(dictionary_path=config.dictionary_path + '.txt')"
   ]
  },
  {
   "cell_type": "code",
   "execution_count": null,
   "metadata": {
    "collapsed": false
   },
   "outputs": [],
   "source": [
    "batch_vectorizer = artm.BatchVectorizer(data_path=config.output_batches_path,\n",
    "                                        data_format='batches')\n",
    "dictionary = artm.Dictionary()\n",
    "dictionary.load(dictionary_path=config.dictionary_path + '.dict')"
   ]
  },
  {
   "cell_type": "code",
   "execution_count": 18,
   "metadata": {
    "collapsed": true
   },
   "outputs": [],
   "source": [
    "phi_convex_hull = load_pickle_file('phi_convex_hull_t2.p')\n",
    "saved_top_tokens_convex_hull = load_pickle_file('saved_top_tokens_t2.p')\n",
    "theta = load_pickle_file('theta_t2.p')"
   ]
  },
  {
   "cell_type": "code",
   "execution_count": 21,
   "metadata": {
    "collapsed": false
   },
   "outputs": [
    {
     "name": "stdout",
     "output_type": "stream",
     "text": [
      "[2016-12-11 11:46:02.974000] creating model\n",
      "[2016-12-11 11:46:04.600000] adding scores\n",
      "[2016-12-11 11:46:04.618000] fitting\n",
      "[2016-12-11 11:48:26.390000] outputting\n",
      "name = model1, n_topics = 20, n_doc_passes = 5, seed_value = 100, n_iterations = 15, n_top_tokens = 15, p_threshold = 0.25\n",
      "ss_theta_regularizer, tau = -1.5\n",
      "decorrelator_phi_regularizer, tau = 1000000.0\n",
      "ss_phi_regularizer, tau = -2\n",
      "\n"
     ]
    }
   ],
   "source": [
    "tmp_model = create_model(current_dictionary=dictionary, n_topics=20, n_doc_passes=5, seed_value=100,\n",
    "                         n_top_tokens=15, p_mass_threshold=0.25)\n",
    "tmp_model.regularizers.add(artm.DecorrelatorPhiRegularizer(name='decorrelator_phi_regularizer', class_ids=['@default_class']))\n",
    "tmp_model.regularizers.add(artm.SmoothSparsePhiRegularizer(name='ss_phi_regularizer', class_ids=['@default_class']))\n",
    "tmp_model.regularizers.add(artm.SmoothSparseThetaRegularizer(name='ss_theta_regularizer'))\n",
    "tmp_model.regularizers['ss_phi_regularizer'].tau = -2\n",
    "tmp_model.regularizers['ss_theta_regularizer'].tau = -1.5\n",
    "tmp_model.regularizers['decorrelator_phi_regularizer'].tau = 1e+6\n",
    "tmp_model = fit_one_model(tmp_model, _n_iterations=15, _model_name='model1')\n",
    "model1 = tmp_model; tmp_model = None"
   ]
  },
  {
   "cell_type": "code",
   "execution_count": 83,
   "metadata": {
    "collapsed": false
   },
   "outputs": [
    {
     "name": "stdout",
     "output_type": "stream",
     "text": [
      "[2016-12-11 14:21:12.807000] creating model\n",
      "[2016-12-11 14:21:15.706000] adding scores\n",
      "[2016-12-11 14:21:15.712000] fitting\n",
      "[2016-12-11 14:21:26.428000] outputting\n",
      "name = model2, n_topics = 20, n_doc_passes = 5, seed_value = 100, n_iterations = 15, n_top_tokens = 15, p_threshold = 0.25\n",
      "\n"
     ]
    }
   ],
   "source": [
    "tmp_model = create_model(current_dictionary=dictionary, n_topics=20, n_doc_passes=5, seed_value=100,\n",
    "                         n_top_tokens=15, p_mass_threshold=0.25)\n",
    "tmp_model = fit_one_model(tmp_model, _n_iterations=15, _model_name='model2')\n",
    "model2 = tmp_model; tmp_model = None"
   ]
  },
  {
   "cell_type": "code",
   "execution_count": 22,
   "metadata": {
    "collapsed": true
   },
   "outputs": [],
   "source": [
    "def euc_dist(p, q):\n",
    "    return euclidean_norm(p - q)\n",
    "def euc_dist_grad(b, A, x):\n",
    "    x = x.reshape(-1, 1)\n",
    "    b = b.reshape(-1, 1)\n",
    "    norm = euc_dist(A.dot(x), b)\n",
    "    res = A.T.dot(A.dot(x) - b)\n",
    "    if norm != 0:\n",
    "        res = res / norm\n",
    "    return res\n",
    "def cos_dist(p, q):\n",
    "    p = p.reshape(-1, 1)\n",
    "    q = q.reshape(-1, 1)\n",
    "    return cosine_distances(p, q)[0][0]\n",
    "def cos_dist_grad(b, A, x):\n",
    "    x = x.reshape(-1, 1)\n",
    "    b = b.reshape(-1, 1)\n",
    "    y = A.dot(x)\n",
    "    u = b.T.dot(y) # number\n",
    "    deriv_u = A.T.dot(b) * x\n",
    "    v = euclidean_norm(y) * euclidean_norm(b)\n",
    "    nom = deriv_u * v - A.T.dot(A).dot(x) * u[0][0] * euclidean_norm(b) / euclidean_norm(y)\n",
    "    denom = v * v\n",
    "    if denom != 0:\n",
    "        res = nom / denom\n",
    "    else:\n",
    "        res = nom\n",
    "    return -res\n",
    "def hellinger_dist(p, q):\n",
    "    return np.sqrt(np.sum((np.sqrt(p) - np.sqrt(q)) ** 2)) / np.sqrt(2) \n",
    "def hellinger_dist_grad(b, A, x):\n",
    "    y = A.dot(x)\n",
    "    nom = np.divide(np.sqrt(y) - np.sqrt(b), np.sqrt(y)).dot(A)\n",
    "    denom = 2 * hellinger_dist(y, b) * np.sqrt(2)\n",
    "    res = nom / denom \n",
    "    return res\n",
    "def hellinger_dist_grad_nan(b, A, x):\n",
    "    y = A.dot(x)\n",
    "    tmp = np.divide(np.sqrt(y) - np.sqrt(b), np.sqrt(y))\n",
    "    tmp[np.isnan(tmp)] = 0\n",
    "    nom = tmp.dot(A)\n",
    "    denom = 2 * hellinger_dist(y, b) * np.sqrt(2)\n",
    "    res = nom / denom \n",
    "    return res\n",
    "def hellinger_dist_grad_eps(b, A, x):\n",
    "    y = A.dot(x)\n",
    "    y[y == 0] = 1e-3\n",
    "    tmp = np.divide(np.sqrt(y) - np.sqrt(b), np.sqrt(y))\n",
    "    nom = tmp.dot(A)\n",
    "    denom = 2 * hellinger_dist(y, b) * np.sqrt(2)\n",
    "    res = nom / denom \n",
    "    return res"
   ]
  },
  {
   "cell_type": "code",
   "execution_count": 34,
   "metadata": {
    "collapsed": false
   },
   "outputs": [],
   "source": [
    "def print_optimal_solution_eps(_sol):\n",
    "    _eps = 1e-2\n",
    "    x = _sol.x\n",
    "    c = _sol.column_names\n",
    "    x_mask = x >_eps\n",
    "    x_cut = x[x_mask]\n",
    "    c_cut = c[x_mask]\n",
    "    combination = ', '.join(['{} : {}'.format(c_cut[ind], x_cut[ind]) for ind in range(len(x_cut))])\n",
    "    print 'fun = {}, optimized = {}'.format(_sol.fun, _sol.success)\n",
    "    print '{}: {}'.format(_sol.optimized_column, combination)\n",
    "def print_optimal_solution(_sol, _distances=None, _saved_top_tokens=None):\n",
    "    x = _sol.x\n",
    "    c = _sol.column_names\n",
    "    sorted_x = sorted(zip(x, c), reverse=True)[0 : NUM_INDICES]\n",
    "    if _distances is not None:\n",
    "        combination = ', '.join(['{0} : {1:0.2f} [{2:0.2f}]'.format(item[1], item[0], _distances[_sol.optimized_column][item[1]]) for item in sorted_x])\n",
    "        combination += '\\n' + distances_to_str_row(_distances, _sol.optimized_column, _n_topics=NUM_INDICES)\n",
    "    else:\n",
    "        combination = ', '.join(['{0} : {1:0.2f}'.format(item[1], item[0]) for item in sorted_x])\n",
    "    print '============================'\n",
    "    print 'fun = {}, optimized = {}'.format(_sol.fun, _sol.success)\n",
    "    print '{} | {}'.format(_sol.optimized_column, combination)\n",
    "    if _saved_top_tokens is not None:\n",
    "        topics_str = optimal_solution_topics_to_str(_saved_top_tokens, _sol.optimized_column, sorted_x)\n",
    "        print topics_str\n",
    "    print '============================'\n",
    "def unicode_list_to_str(_name, _list):\n",
    "    return _name + ': ' + ' '.join(_list)\n",
    "def optimal_solution_topics_to_str(_saved_top_tokens, topic_name, sorted_x):\n",
    "    topics = [item[1] for item in sorted_x]\n",
    "    topics.insert(0, topic_name)\n",
    "    str = \"\"\n",
    "    for topic_name in topics:\n",
    "        str += unicode_list_to_str(topic_name, _saved_top_tokens[topic_name]) + '\\n'\n",
    "    return str\n",
    "def calculate_distances(dist_fun, _phi, _phi_other):\n",
    "    print '[{}] take_distances between {} columns and {} columns'.format(datetime.now(), len(_phi.columns), len(_phi_other.columns))\n",
    "    distances = pd.DataFrame(0, index = _phi.columns, columns=_phi_other.columns)\n",
    "    for idx, col in enumerate(_phi.columns):\n",
    "        print '[{}] column num {} of {}'.format(datetime.now(), idx, len(_phi.columns))\n",
    "        for idx_other, col_other in enumerate(_phi_other.columns):\n",
    "            distance = dist_fun(_phi[col], _phi_other[col_other])\n",
    "            distances.iloc[idx, idx_other] = distance\n",
    "    return distances\n",
    "def distances_to_str_row(distances, topic, _n_topics):\n",
    "    values = distances[topic].sort_values().head(_n_topics)\n",
    "    value = ', '.join(['{0} : [{1:0.2f}]'.format(values.index[ind], values[ind]) for ind in range(len(values))])\n",
    "    str = 'closest by distance to {} | {}\\n'.format(topic, value)\n",
    "    return str\n",
    "def calculate_distances_one_col(dist, phi, column): \n",
    "    distances = pd.DataFrame(0, index = range(1), columns=phi.columns)\n",
    "    for idx, col in enumerate(phi.columns):\n",
    "        distance = dist(column, phi[col])\n",
    "        distances.iloc[0, idx] = distance\n",
    "    return distances\n",
    "def get_optimization_result_other(dist_fn, jac_dist_fn, phi, phi_other, distances):\n",
    "    opt_results = {}\n",
    "    for col_idx, col in enumerate(phi.columns):\n",
    "        print '[{}] get_optimization_result for column {}'.format(datetime.now(), col_idx)\n",
    "        opt_results[col] = solve_optimization_problem(dist_fn, jac_dist_fn, col_idx, phi, phi_other, distances)\n",
    "    return opt_results\n",
    "def solve_optimization_problem_other(dist_fn, jac_dist_fn, col_idx, phi, phi_other, distances, verbose=False):\n",
    "    max_iter = 50\n",
    "    col_name = phi.columns[col_idx]\n",
    "    col = phi[col_name]\n",
    "    # get n closest topics\n",
    "    closest_indices = distances[col_name].sort_values().head(N_CLOSEST_TOPICS).index.values\n",
    "    phi_other_closest = phi_other[closest_indices]\n",
    "    \n",
    "    # opt solver\n",
    "    n_columns = phi_other_closest.shape[1] \n",
    "    bnds = [(0, 1)] * n_columns\n",
    "    constraints = cons = ({'type': 'eq', 'fun': lambda x:  np.sum(x) - 1, 'jac': lambda x: [1] * n_columns})\n",
    "    opt_fun = lambda x: dist_fn(col, phi_other_closest.dot(x))\n",
    "    jac_fun = lambda x: jac_dist_fn(col, phi_other_closest, x)\n",
    "    \n",
    "    is_optimized = False\n",
    "    it = 0\n",
    "    while (not is_optimized) and it != 4:\n",
    "        it += 1\n",
    "        init_x = np.random.uniform(0, 1, (1, n_columns))\n",
    "        init_x /= np.sum(init_x)\n",
    "        if jac_dist_fn is not None:\n",
    "            res = minimize(opt_fun, jac=jac_fun, x0=init_x, method='SLSQP', bounds=bnds, constraints=cons, options={'maxiter': max_iter, 'disp': verbose})\n",
    "        else:\n",
    "            res = minimize(opt_fun, x0=init_x, method='SLSQP', bounds=bnds, constraints=cons, options={'maxiter': max_iter, 'disp': verbose})\n",
    "        is_optimized = res.success\n",
    "    res['column_names'] = phi_other_closest.columns\n",
    "    res['optimized_column'] = col_name\n",
    "    return res"
   ]
  },
  {
   "cell_type": "code",
   "execution_count": 24,
   "metadata": {
    "collapsed": true
   },
   "outputs": [],
   "source": [
    "N_CLOSEST_TOPICS = 50\n",
    "NUM_INDICES = 10\n",
    "phi1 = model1.get_phi()\n",
    "saved_top_tokens1 = model1.score_tracker['top_tokens_score'].last_tokens\n",
    "\n",
    "phi = phi1\n",
    "saved_top_tokens = saved_top_tokens1"
   ]
  },
  {
   "cell_type": "code",
   "execution_count": 25,
   "metadata": {
    "collapsed": true
   },
   "outputs": [
    {
     "name": "stdout",
     "output_type": "stream",
     "text": [
      "[2016-12-11 11:48:53.499000] take_distances between 20 columns and 449 columns\n",
      "[2016-12-11 11:48:53.500000] column num 0 of 20\n",
      "[2016-12-11 11:49:19.370000] column num 1 of 20\n",
      "[2016-12-11 11:49:42.376000] column num 2 of 20\n",
      "[2016-12-11 11:50:05.852000] column num 3 of 20\n",
      "[2016-12-11 11:50:31.045000] column num 4 of 20\n",
      "[2016-12-11 11:50:53.212000] column num 5 of 20\n",
      "[2016-12-11 11:51:15.198000] column num 6 of 20\n",
      "[2016-12-11 11:51:36.993000] column num 7 of 20\n",
      "[2016-12-11 11:51:58.917000] column num 8 of 20\n",
      "[2016-12-11 11:52:20.317000] column num 9 of 20\n",
      "[2016-12-11 11:52:41.439000] column num 10 of 20\n",
      "[2016-12-11 11:53:03.567000] column num 11 of 20\n",
      "[2016-12-11 11:53:25.702000] column num 12 of 20\n",
      "[2016-12-11 11:53:48.485000] column num 13 of 20\n",
      "[2016-12-11 11:54:10.824000] column num 14 of 20\n",
      "[2016-12-11 11:54:32.478000] column num 15 of 20\n",
      "[2016-12-11 11:54:55.768000] column num 16 of 20\n",
      "[2016-12-11 11:55:24.104000] column num 17 of 20\n",
      "[2016-12-11 11:55:50.462000] column num 18 of 20\n",
      "[2016-12-11 11:56:16.978000] column num 19 of 20\n"
     ]
    }
   ],
   "source": [
    "distances = calculate_distances(hellinger_dist, phi_convex_hull, phi)"
   ]
  },
  {
   "cell_type": "code",
   "execution_count": 35,
   "metadata": {
    "collapsed": false
   },
   "outputs": [
    {
     "name": "stdout",
     "output_type": "stream",
     "text": [
      "[2016-12-11 12:01:13.413000] get_optimization_result for column 0\n",
      "[2016-12-11 12:01:18.663000] get_optimization_result for column 1\n",
      "[2016-12-11 12:01:22.510000] get_optimization_result for column 2\n",
      "[2016-12-11 12:01:27.637000] get_optimization_result for column 3\n",
      "[2016-12-11 12:01:32.119000] get_optimization_result for column 4\n",
      "[2016-12-11 12:01:36.122000] get_optimization_result for column 5\n",
      "[2016-12-11 12:01:39.632000] get_optimization_result for column 6\n",
      "[2016-12-11 12:01:44.399000] get_optimization_result for column 7\n",
      "[2016-12-11 12:01:48.254000] get_optimization_result for column 8\n",
      "[2016-12-11 12:01:51.667000] get_optimization_result for column 9\n",
      "[2016-12-11 12:01:56.845000] get_optimization_result for column 10\n",
      "[2016-12-11 12:02:00.300000] get_optimization_result for column 11\n",
      "[2016-12-11 12:02:03.834000] get_optimization_result for column 12\n",
      "[2016-12-11 12:02:09.128000] get_optimization_result for column 13\n",
      "[2016-12-11 12:02:12.621000] get_optimization_result for column 14\n",
      "[2016-12-11 12:02:16.138000] get_optimization_result for column 15\n",
      "[2016-12-11 12:02:21.281000] get_optimization_result for column 16\n",
      "[2016-12-11 12:02:24.728000] get_optimization_result for column 17\n",
      "[2016-12-11 12:02:28.249000] get_optimization_result for column 18\n",
      "[2016-12-11 12:02:33.467000] get_optimization_result for column 19\n"
     ]
    }
   ],
   "source": [
    "ds1 = get_optimization_result(hellinger_dist, None, phi, phi_convex_hull, distances)\n",
    "ds = ds1\n",
    "save_pickle_file(ds, 'dists_h_none.p')"
   ]
  },
  {
   "cell_type": "code",
   "execution_count": 36,
   "metadata": {
    "collapsed": false
   },
   "outputs": [
    {
     "data": {
      "text/plain": [
       "<matplotlib.axes._subplots.AxesSubplot at 0x14d41b70>"
      ]
     },
     "execution_count": 36,
     "metadata": {},
     "output_type": "execute_result"
    },
    {
     "data": {
      "image/png": "[encoded data removed]",
      "text/plain": [
       "<matplotlib.figure.Figure at 0xd364ef0>"
      ]
     },
     "metadata": {},
     "output_type": "display_data"
    }
   ],
   "source": [
    "# построим распределение полученных distances, построим распределение полученных opt_fun \n",
    "%matplotlib inline\n",
    "sns.distplot(distances.values.flatten())"
   ]
  },
  {
   "cell_type": "code",
   "execution_count": 37,
   "metadata": {
    "collapsed": false
   },
   "outputs": [
    {
     "data": {
      "text/plain": [
       "<matplotlib.axes._subplots.AxesSubplot at 0x14d411d0>"
      ]
     },
     "execution_count": 37,
     "metadata": {},
     "output_type": "execute_result"
    },
    {
     "data": {
      "image/png": "[encoded data removed]",
      "text/plain": [
       "<matplotlib.figure.Figure at 0xd584160>"
      ]
     },
     "metadata": {},
     "output_type": "display_data"
    }
   ],
   "source": [
    "fs = [ds[col].fun for col in phi.columns]\n",
    "sns.distplot(fs, bins=100)"
   ]
  },
  {
   "cell_type": "code",
   "execution_count": 38,
   "metadata": {
    "collapsed": false
   },
   "outputs": [
    {
     "data": {
      "text/plain": [
       "<matplotlib.axes._subplots.AxesSubplot at 0x14d75a58>"
      ]
     },
     "execution_count": 38,
     "metadata": {},
     "output_type": "execute_result"
    },
    {
     "data": {
      "image/png": "[encoded data removed]",
      "text/plain": [
       "<matplotlib.figure.Figure at 0x15973828>"
      ]
     },
     "metadata": {},
     "output_type": "display_data"
    }
   ],
   "source": [
    "xs = [ds[col].x[0] for col in phi.columns]\n",
    "sns.distplot(xs, bins=100)"
   ]
  },
  {
   "cell_type": "code",
   "execution_count": 40,
   "metadata": {
    "collapsed": true
   },
   "outputs": [],
   "source": [
    "opt_res_convex_hull, distances_convex_hull = ds, distances"
   ]
  },
  {
   "cell_type": "code",
   "execution_count": 45,
   "metadata": {
    "collapsed": false
   },
   "outputs": [
    {
     "name": "stdout",
     "output_type": "stream",
     "text": [
      "============================\n",
      "fun = 0.707106652408, optimized = True\n",
      "topic_0 | topic_324 : 0.05 [0.71], topic_46 : 0.04 [0.71], topic_19 : 0.04 [0.71], topic_125 : 0.04 [0.71], topic_131 : 0.04 [0.71], topic_362 : 0.04 [0.71], topic_245 : 0.04 [0.71], topic_273 : 0.04 [0.71], topic_477 : 0.04 [0.71], topic_85 : 0.03 [0.71]\n",
      "closest by distance to topic_0 | topic_497 : [0.71], topic_20 : [0.71], topic_428 : [0.71], topic_37 : [0.71], topic_328 : [0.71], topic_294 : [0.71], topic_298 : [0.71], topic_344 : [0.71], topic_140 : [0.71], topic_122 : [0.71]\n",
      "\n",
      "============================\n",
      "============================\n",
      "fun = 0.707106648673, optimized = True\n",
      "topic_1 | topic_120 : 0.04 [0.71], topic_131 : 0.04 [0.71], topic_317 : 0.04 [0.71], topic_20 : 0.03 [0.71], topic_122 : 0.03 [0.71], topic_470 : 0.03 [0.71], topic_19 : 0.03 [0.71], topic_362 : 0.03 [0.71], topic_373 : 0.03 [0.71], topic_328 : 0.03 [0.71]\n",
      "closest by distance to topic_1 | topic_497 : [0.71], topic_20 : [0.71], topic_428 : [0.71], topic_37 : [0.71], topic_328 : [0.71], topic_294 : [0.71], topic_298 : [0.71], topic_344 : [0.71], topic_140 : [0.71], topic_122 : [0.71]\n",
      "\n",
      "============================\n",
      "============================\n",
      "fun = 0.707106643912, optimized = True\n",
      "topic_2 | topic_37 : 0.04 [0.71], topic_337 : 0.04 [0.71], topic_280 : 0.04 [0.71], topic_53 : 0.04 [0.71], topic_354 : 0.04 [0.71], topic_72 : 0.04 [0.71], topic_357 : 0.04 [0.71], topic_320 : 0.04 [0.71], topic_330 : 0.04 [0.71], topic_470 : 0.04 [0.71]\n",
      "closest by distance to topic_2 | topic_497 : [0.71], topic_20 : [0.71], topic_428 : [0.71], topic_37 : [0.71], topic_328 : [0.71], topic_294 : [0.71], topic_298 : [0.71], topic_344 : [0.71], topic_140 : [0.71], topic_122 : [0.71]\n",
      "\n",
      "============================\n",
      "============================\n",
      "fun = 0.7071066454, optimized = True\n",
      "topic_3 | topic_477 : 0.03 [0.71], topic_373 : 0.03 [0.71], topic_34 : 0.03 [0.71], topic_354 : 0.03 [0.71], topic_328 : 0.03 [0.71], topic_362 : 0.03 [0.71], topic_158 : 0.03 [0.71], topic_357 : 0.03 [0.71], topic_366 : 0.03 [0.71], topic_320 : 0.03 [0.71]\n",
      "closest by distance to topic_3 | topic_497 : [0.71], topic_20 : [0.71], topic_428 : [0.71], topic_37 : [0.71], topic_328 : [0.71], topic_294 : [0.71], topic_298 : [0.71], topic_344 : [0.71], topic_140 : [0.71], topic_122 : [0.71]\n",
      "\n",
      "============================\n",
      "============================\n",
      "fun = 0.707106647023, optimized = True\n",
      "topic_4 | topic_330 : 0.04 [0.71], topic_234 : 0.04 [0.71], topic_165 : 0.04 [0.71], topic_230 : 0.04 [0.71], topic_457 : 0.03 [0.71], topic_273 : 0.03 [0.71], topic_125 : 0.03 [0.71], topic_37 : 0.03 [0.71], topic_20 : 0.03 [0.71], topic_85 : 0.03 [0.71]\n",
      "closest by distance to topic_4 | topic_497 : [0.71], topic_20 : [0.71], topic_428 : [0.71], topic_37 : [0.71], topic_328 : [0.71], topic_294 : [0.71], topic_298 : [0.71], topic_344 : [0.71], topic_140 : [0.71], topic_122 : [0.71]\n",
      "\n",
      "============================\n",
      "============================\n",
      "fun = 0.70710664609, optimized = True\n",
      "topic_5 | topic_328 : 0.03 [0.71], topic_273 : 0.03 [0.71], topic_457 : 0.03 [0.71], topic_20 : 0.03 [0.71], topic_344 : 0.03 [0.71], topic_230 : 0.03 [0.71], topic_46 : 0.03 [0.71], topic_428 : 0.03 [0.71], topic_234 : 0.03 [0.71], topic_37 : 0.03 [0.71]\n",
      "closest by distance to topic_5 | topic_497 : [0.71], topic_20 : [0.71], topic_428 : [0.71], topic_37 : [0.71], topic_328 : [0.71], topic_294 : [0.71], topic_298 : [0.71], topic_344 : [0.71], topic_140 : [0.71], topic_122 : [0.71]\n",
      "\n",
      "============================\n",
      "============================\n",
      "fun = 0.707106648426, optimized = True\n",
      "topic_6 | topic_470 : 0.04 [0.71], topic_125 : 0.04 [0.71], topic_324 : 0.03 [0.71], topic_165 : 0.03 [0.71], topic_497 : 0.03 [0.71], topic_362 : 0.03 [0.71], topic_216 : 0.03 [0.71], topic_72 : 0.03 [0.71], topic_245 : 0.03 [0.71], topic_366 : 0.03 [0.71]\n",
      "closest by distance to topic_6 | topic_497 : [0.71], topic_20 : [0.71], topic_428 : [0.71], topic_37 : [0.71], topic_328 : [0.71], topic_294 : [0.71], topic_298 : [0.71], topic_344 : [0.71], topic_140 : [0.71], topic_122 : [0.71]\n",
      "\n",
      "============================\n",
      "============================\n",
      "fun = 0.707106649311, optimized = True\n",
      "topic_7 | topic_234 : 0.04 [0.71], topic_67 : 0.04 [0.71], topic_366 : 0.04 [0.71], topic_294 : 0.04 [0.71], topic_273 : 0.03 [0.71], topic_315 : 0.03 [0.71], topic_357 : 0.03 [0.71], topic_320 : 0.03 [0.71], topic_310 : 0.03 [0.71], topic_362 : 0.03 [0.71]\n",
      "closest by distance to topic_7 | topic_497 : [0.71], topic_20 : [0.71], topic_428 : [0.71], topic_37 : [0.71], topic_328 : [0.71], topic_294 : [0.71], topic_298 : [0.71], topic_344 : [0.71], topic_140 : [0.71], topic_122 : [0.71]\n",
      "\n",
      "============================\n",
      "============================\n",
      "fun = 0.707106646331, optimized = True\n",
      "topic_8 | topic_315 : 0.04 [0.71], topic_245 : 0.04 [0.71], topic_457 : 0.04 [0.71], topic_344 : 0.04 [0.71], topic_317 : 0.04 [0.71], topic_140 : 0.04 [0.71], topic_37 : 0.04 [0.71], topic_170 : 0.03 [0.71], topic_125 : 0.03 [0.71], topic_158 : 0.03 [0.71]\n",
      "closest by distance to topic_8 | topic_497 : [0.71], topic_20 : [0.71], topic_428 : [0.71], topic_37 : [0.71], topic_328 : [0.71], topic_294 : [0.71], topic_298 : [0.71], topic_344 : [0.71], topic_140 : [0.71], topic_122 : [0.71]\n",
      "\n",
      "============================\n",
      "============================\n",
      "fun = 0.70710665225, optimized = True\n",
      "topic_9 | topic_317 : 0.04 [0.71], topic_30 : 0.04 [0.71], topic_273 : 0.04 [0.71], topic_315 : 0.04 [0.71], topic_47 : 0.04 [0.71], topic_477 : 0.04 [0.71], topic_34 : 0.04 [0.71], topic_85 : 0.04 [0.71], topic_122 : 0.04 [0.71], topic_428 : 0.03 [0.71]\n",
      "closest by distance to topic_9 | topic_497 : [0.71], topic_20 : [0.71], topic_428 : [0.71], topic_37 : [0.71], topic_328 : [0.71], topic_294 : [0.71], topic_298 : [0.71], topic_344 : [0.71], topic_140 : [0.71], topic_122 : [0.71]\n",
      "\n",
      "============================\n",
      "============================\n",
      "fun = 0.707106636781, optimized = True\n",
      "topic_10 | topic_37 : 0.04 [0.71], topic_320 : 0.04 [0.71], topic_20 : 0.04 [0.71], topic_411 : 0.04 [0.71], topic_294 : 0.04 [0.71], topic_72 : 0.04 [0.71], topic_366 : 0.04 [0.71], topic_373 : 0.04 [0.71], topic_19 : 0.03 [0.71], topic_46 : 0.03 [0.71]\n",
      "closest by distance to topic_10 | topic_497 : [0.71], topic_20 : [0.71], topic_428 : [0.71], topic_37 : [0.71], topic_328 : [0.71], topic_294 : [0.71], topic_298 : [0.71], topic_344 : [0.71], topic_140 : [0.71], topic_122 : [0.71]\n",
      "\n",
      "============================\n",
      "============================\n",
      "fun = 0.707106651063, optimized = True\n",
      "topic_11 | topic_373 : 0.04 [0.71], topic_298 : 0.04 [0.71], topic_310 : 0.04 [0.71], topic_85 : 0.04 [0.71], topic_428 : 0.04 [0.71], topic_470 : 0.04 [0.71], topic_216 : 0.04 [0.71], topic_317 : 0.04 [0.71], topic_158 : 0.03 [0.71], topic_122 : 0.03 [0.71]\n",
      "closest by distance to topic_11 | topic_497 : [0.71], topic_20 : [0.71], topic_428 : [0.71], topic_37 : [0.71], topic_328 : [0.71], topic_294 : [0.71], topic_298 : [0.71], topic_344 : [0.71], topic_140 : [0.71], topic_122 : [0.71]\n",
      "\n",
      "============================\n",
      "============================\n",
      "fun = 0.70710664906, optimized = True\n",
      "topic_12 | topic_230 : 0.04 [0.71], topic_462 : 0.04 [0.71], topic_457 : 0.04 [0.71], topic_418 : 0.04 [0.71], topic_72 : 0.04 [0.71], topic_216 : 0.04 [0.71], topic_85 : 0.03 [0.71], topic_20 : 0.03 [0.71], topic_298 : 0.03 [0.71], topic_310 : 0.03 [0.71]\n",
      "closest by distance to topic_12 | topic_497 : [0.71], topic_20 : [0.71], topic_428 : [0.71], topic_37 : [0.71], topic_328 : [0.71], topic_294 : [0.71], topic_298 : [0.71], topic_344 : [0.71], topic_140 : [0.71], topic_122 : [0.71]\n",
      "\n",
      "============================\n",
      "============================\n",
      "fun = 0.707106647169, optimized = True\n",
      "topic_13 | topic_362 : 0.04 [0.71], topic_125 : 0.04 [0.71], topic_216 : 0.04 [0.71], topic_280 : 0.04 [0.71], topic_37 : 0.03 [0.71], topic_273 : 0.03 [0.71], topic_310 : 0.03 [0.71], topic_230 : 0.03 [0.71], topic_330 : 0.03 [0.71], topic_140 : 0.03 [0.71]\n",
      "closest by distance to topic_13 | topic_497 : [0.71], topic_20 : [0.71], topic_428 : [0.71], topic_37 : [0.71], topic_328 : [0.71], topic_294 : [0.71], topic_298 : [0.71], topic_344 : [0.71], topic_140 : [0.71], topic_122 : [0.71]\n",
      "\n",
      "============================\n",
      "============================\n",
      "fun = 0.707106646983, optimized = True\n",
      "topic_14 | topic_280 : 0.04 [0.71], topic_131 : 0.04 [0.71], topic_294 : 0.04 [0.71], topic_477 : 0.04 [0.71], topic_317 : 0.04 [0.71], topic_470 : 0.04 [0.71], topic_315 : 0.03 [0.71], topic_165 : 0.03 [0.71], topic_19 : 0.03 [0.71], topic_46 : 0.03 [0.71]\n",
      "closest by distance to topic_14 | topic_497 : [0.71], topic_20 : [0.71], topic_428 : [0.71], topic_37 : [0.71], topic_328 : [0.71], topic_294 : [0.71], topic_298 : [0.71], topic_344 : [0.71], topic_140 : [0.71], topic_122 : [0.71]\n",
      "\n",
      "============================\n",
      "============================\n",
      "fun = 0.707106655879, optimized = True\n",
      "topic_15 | topic_280 : 0.04 [0.71], topic_310 : 0.04 [0.71], topic_67 : 0.04 [0.71], topic_357 : 0.03 [0.71], topic_19 : 0.03 [0.71], topic_354 : 0.03 [0.71], topic_317 : 0.03 [0.71], topic_457 : 0.03 [0.71], topic_330 : 0.03 [0.71], topic_170 : 0.03 [0.71]\n",
      "closest by distance to topic_15 | topic_497 : [0.71], topic_20 : [0.71], topic_428 : [0.71], topic_37 : [0.71], topic_328 : [0.71], topic_294 : [0.71], topic_298 : [0.71], topic_344 : [0.71], topic_140 : [0.71], topic_122 : [0.71]\n",
      "\n",
      "============================\n",
      "============================\n",
      "fun = 0.707106643544, optimized = True\n",
      "topic_16 | topic_122 : 0.04 [0.71], topic_280 : 0.04 [0.71], topic_30 : 0.04 [0.71], topic_67 : 0.04 [0.71], topic_230 : 0.04 [0.71], topic_53 : 0.04 [0.71], topic_245 : 0.04 [0.71], topic_462 : 0.04 [0.71], topic_337 : 0.04 [0.71], topic_234 : 0.04 [0.71]\n",
      "closest by distance to topic_16 | topic_497 : [0.71], topic_20 : [0.71], topic_428 : [0.71], topic_37 : [0.71], topic_328 : [0.71], topic_294 : [0.71], topic_298 : [0.71], topic_344 : [0.71], topic_140 : [0.71], topic_122 : [0.71]\n",
      "\n",
      "============================\n",
      "============================\n",
      "fun = 0.707106649876, optimized = True\n",
      "topic_17 | topic_315 : 0.04 [0.71], topic_310 : 0.04 [0.71], topic_120 : 0.04 [0.71], topic_373 : 0.04 [0.71], topic_72 : 0.04 [0.71], topic_462 : 0.04 [0.71], topic_330 : 0.04 [0.71], topic_245 : 0.04 [0.71], topic_37 : 0.04 [0.71], topic_418 : 0.03 [0.71]\n",
      "closest by distance to topic_17 | topic_497 : [0.71], topic_20 : [0.71], topic_428 : [0.71], topic_37 : [0.71], topic_328 : [0.71], topic_294 : [0.71], topic_298 : [0.71], topic_344 : [0.71], topic_140 : [0.71], topic_122 : [0.71]\n",
      "\n",
      "============================\n",
      "============================\n",
      "fun = 0.707106649962, optimized = True\n",
      "topic_18 | topic_47 : 0.04 [0.71], topic_20 : 0.04 [0.71], topic_457 : 0.03 [0.71], topic_357 : 0.03 [0.71], topic_67 : 0.03 [0.71], topic_280 : 0.03 [0.71], topic_125 : 0.03 [0.71], topic_328 : 0.03 [0.71], topic_170 : 0.03 [0.71], topic_428 : 0.03 [0.71]\n",
      "closest by distance to topic_18 | topic_497 : [0.71], topic_20 : [0.71], topic_428 : [0.71], topic_37 : [0.71], topic_328 : [0.71], topic_294 : [0.71], topic_298 : [0.71], topic_344 : [0.71], topic_140 : [0.71], topic_122 : [0.71]\n",
      "\n",
      "============================\n",
      "============================\n",
      "fun = 0.707106646773, optimized = True\n",
      "topic_19 | topic_230 : 0.04 [0.71], topic_362 : 0.04 [0.71], topic_170 : 0.04 [0.71], topic_67 : 0.04 [0.71], topic_373 : 0.04 [0.71], topic_34 : 0.04 [0.71], topic_245 : 0.04 [0.71], topic_131 : 0.03 [0.71], topic_411 : 0.03 [0.71], topic_344 : 0.03 [0.71]\n",
      "closest by distance to topic_19 | topic_497 : [0.71], topic_20 : [0.71], topic_428 : [0.71], topic_37 : [0.71], topic_328 : [0.71], topic_294 : [0.71], topic_298 : [0.71], topic_344 : [0.71], topic_140 : [0.71], topic_122 : [0.71]\n",
      "\n",
      "============================\n"
     ]
    }
   ],
   "source": [
    "for topic_name in phi.columns:\n",
    "    print_optimal_solution(opt_res_convex_hull[topic_name], _distances=distances_convex_hull)"
   ]
  },
  {
   "cell_type": "code",
   "execution_count": null,
   "metadata": {
    "collapsed": true
   },
   "outputs": [],
   "source": [
    "# model2"
   ]
  },
  {
   "cell_type": "code",
   "execution_count": 46,
   "metadata": {
    "collapsed": true
   },
   "outputs": [],
   "source": [
    "phi2 = model2.get_phi()\n",
    "saved_top_tokens2 = model2.score_tracker['top_tokens_score'].last_tokens\n",
    "\n",
    "phi = phi2\n",
    "saved_top_tokens = saved_top_tokens2"
   ]
  },
  {
   "cell_type": "code",
   "execution_count": 48,
   "metadata": {
    "collapsed": false,
    "scrolled": true
   },
   "outputs": [
    {
     "name": "stdout",
     "output_type": "stream",
     "text": [
      "[2016-12-11 12:08:44.818000] take_distances between 20 columns and 449 columns\n",
      "[2016-12-11 12:08:44.819000] column num 0 of 20\n",
      "[2016-12-11 12:09:08.561000] column num 1 of 20\n",
      "[2016-12-11 12:09:29.388000] column num 2 of 20\n",
      "[2016-12-11 12:09:54.950000] column num 3 of 20\n",
      "[2016-12-11 12:10:18.245000] column num 4 of 20\n",
      "[2016-12-11 12:10:42.751000] column num 5 of 20\n",
      "[2016-12-11 12:11:05.876000] column num 6 of 20\n",
      "[2016-12-11 12:11:30.498000] column num 7 of 20\n",
      "[2016-12-11 12:11:53.538000] column num 8 of 20\n",
      "[2016-12-11 12:12:16.806000] column num 9 of 20\n",
      "[2016-12-11 12:12:37.922000] column num 10 of 20\n",
      "[2016-12-11 12:13:01.934000] column num 11 of 20\n",
      "[2016-12-11 12:13:26.878000] column num 12 of 20\n",
      "[2016-12-11 12:13:53.230000] column num 13 of 20\n",
      "[2016-12-11 12:14:19.420000] column num 14 of 20\n",
      "[2016-12-11 12:14:46.921000] column num 15 of 20\n",
      "[2016-12-11 12:15:13.846000] column num 16 of 20\n",
      "[2016-12-11 12:15:44.357000] column num 17 of 20\n",
      "[2016-12-11 12:16:18.248000] column num 18 of 20\n",
      "[2016-12-11 12:16:49.351000] column num 19 of 20\n"
     ]
    }
   ],
   "source": [
    "distances = calculate_distances(hellinger_dist, phi, phi_convex_hull).T"
   ]
  },
  {
   "cell_type": "code",
   "execution_count": null,
   "metadata": {
    "collapsed": true
   },
   "outputs": [],
   "source": []
  },
  {
   "cell_type": "code",
   "execution_count": null,
   "metadata": {
    "collapsed": true
   },
   "outputs": [],
   "source": []
  },
  {
   "cell_type": "code",
   "execution_count": null,
   "metadata": {
    "collapsed": true
   },
   "outputs": [],
   "source": []
  },
  {
   "cell_type": "code",
   "execution_count": null,
   "metadata": {
    "collapsed": false
   },
   "outputs": [],
   "source": [
    "def get_topics_to_remove_by_closest_dist(small_dist_opts, distances):\n",
    "    n_closest = 10\n",
    "    sorted_by_fun = sorted(small_dist_opts.values(), key = lambda opt: opt.x[0])\n",
    "    topics_to_remove = []\n",
    "    for opt_res in sorted_by_fun:\n",
    "        topic_name = opt_res.optimized_column\n",
    "        # check not close to current topics to remove\n",
    "        is_closest = lambda topic, other_topic: np.any(distances[topic].sort_values().head(n_closest).index.values == other_topic)\n",
    "        dists_to_topics_to_remove = [not is_closest(topic_name, t) for t in topics_to_remove]\n",
    "        is_far = np.all(np.array(dists_to_topics_to_remove))\n",
    "        if is_far:\n",
    "            topics_to_remove.append(topic_name)\n",
    "    return topics_to_remove\n",
    "def find_topics_to_remove(_opt_res, _phi_convex_hull, _distances_convex_hull, x_th):     \n",
    "    possible_duplicates_opts = {col: _opt_res[col] for col in _phi_convex_hull.columns if _opt_res[col].x[0] > x_th}\n",
    "    print len(possible_duplicates_opts)\n",
    "    topics_to_remove_by_closest_dist = get_topics_to_remove_by_closest_dist(possible_duplicates_opts, _distances_convex_hull)\n",
    "    print 'topics to remove = ', len(topics_to_remove_by_closest_dist)\n",
    "    print '\\n'.join([unicode_list_to_str(topic_name, saved_top_tokens[topic_name][0:11]) for topic_name in topics_to_remove_by_closest_dist])\n",
    "    return topics_to_remove_by_closest_dist\n",
    "def remove_topics_from_phi(phi, topics_to_remove):\n",
    "    return phi.drop(topics_to_remove, axis=1)\n",
    "def remove_topics_from_distances(distances, topics_to_remove):\n",
    "    distances_convex_hull = distances.drop(topics_to_remove, axis=1)\n",
    "    distances_convex_hull = distances_convex_hull.drop(topics_to_remove, axis=0)\n",
    "    return distances_convex_hull"
   ]
  },
  {
   "cell_type": "code",
   "execution_count": null,
   "metadata": {
    "collapsed": true
   },
   "outputs": [],
   "source": [
    "phi_convex_hull, distances_convex_hull, opt_res_convex_hull = phi, distances, ds"
   ]
  },
  {
   "cell_type": "code",
   "execution_count": null,
   "metadata": {
    "collapsed": true
   },
   "outputs": [],
   "source": [
    "# iteration = 1"
   ]
  },
  {
   "cell_type": "code",
   "execution_count": null,
   "metadata": {
    "collapsed": false
   },
   "outputs": [],
   "source": [
    "x_th = 0.4\n",
    "topics_to_remove_by_closest_dist = find_topics_to_remove(opt_res_convex_hull, phi_convex_hull, distances_convex_hull, x_th)"
   ]
  },
  {
   "cell_type": "code",
   "execution_count": null,
   "metadata": {
    "collapsed": true
   },
   "outputs": [],
   "source": [
    "phi_convex_hull = remove_topics_from_phi(phi_convex_hull, topics_to_remove_by_closest_dist)\n",
    "distances_convex_hull = remove_topics_from_distances(distances_convex_hull, topics_to_remove_by_closest_dist)"
   ]
  },
  {
   "cell_type": "code",
   "execution_count": null,
   "metadata": {
    "collapsed": false
   },
   "outputs": [],
   "source": [
    "vals = distances_convex_hull.values.flatten()\n",
    "sns.distplot(vals[vals != 0])"
   ]
  },
  {
   "cell_type": "code",
   "execution_count": null,
   "metadata": {
    "collapsed": true
   },
   "outputs": [],
   "source": []
  },
  {
   "cell_type": "code",
   "execution_count": null,
   "metadata": {
    "collapsed": true
   },
   "outputs": [],
   "source": [
    "models_file.close()"
   ]
  }
 ],
 "metadata": {
  "anaconda-cloud": {},
  "kernelspec": {
   "display_name": "Python [conda root]",
   "language": "python",
   "name": "conda-root-py"
  },
  "language_info": {
   "codemirror_mode": {
    "name": "ipython",
    "version": 2
   },
   "file_extension": ".py",
   "mimetype": "text/x-python",
   "name": "python",
   "nbconvert_exporter": "python",
   "pygments_lexer": "ipython2",
   "version": "2.7.12"
  }
 },
 "nbformat": 4,
 "nbformat_minor": 1
}
